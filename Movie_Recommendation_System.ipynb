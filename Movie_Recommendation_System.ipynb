{
 "cells": [
  {
   "cell_type": "code",
   "execution_count": 133,
   "metadata": {},
   "outputs": [],
   "source": [
    "#importing library\n",
    "import pandas as pd\n",
    "import numpy as np\n",
    "import ast\n",
    "from sklearn.feature_extraction.text import CountVectorizer\n",
    "from nltk.stem.porter import PorterStemmer\n",
    "from sklearn.metrics.pairwise import cosine_similarity\n"
   ]
  },
  {
   "cell_type": "code",
   "execution_count": 134,
   "metadata": {},
   "outputs": [
    {
     "name": "stderr",
     "output_type": "stream",
     "text": [
      "C:\\Users\\svijayaraghavan\\AppData\\Local\\Temp\\ipykernel_22084\\3238617989.py:3: DtypeWarning: Columns (0,4,5,6,7,8,9,10,11,12,13,14,15,16,17,18,19,20,21,22,23,24,25,26,27,28,29,30,31,32,33,34,35,36,37,38,39,40,41,42,43,44,45,46,47,48,49,50,51,52,53,54,55,56,57,58,59,60,61,62,63,64,65,66,67,68,69,70,71,72,73,74,75,76,77,78,79,80,81,82,83,84,85,86,87,88,89,90,91,92,93,94,95,96,97,98,99,100,101,102,103,104,105,106,107,108,109,110,111,112,113,114,115,116,117,118,119,120,121,122,123,124,125,126,127,128,129,130,131,132,133,134,135,136,137,138,139,140,141,142,143,144,145,146,147,148,149,150,151,152,153,154,155,156,157,158,159,160,161,162,163,164,165,166,167,168,169,170,171,172,173,174,175,176,177,178,179,180,181,182,183,184,185,186,187,188,189,190,191,192,193,194,195,196,197,198,199,200,201,202,203,204,205,206,207,208,209,210,211,212,213,214,215,216,217,218,219,220,221,222,223,224,225,226,227,228,229,230,231,232,233,234,235,236,237,238,239,240,241,242,243,244,245,246,247,248,249,250,251,252,253,254,255,256,257,258,259,260,261,262,263,264,265,266,267,268,269,270,271,272,273,274,275,276,277,278,279,280,281,282,283,284,285,286,287,288,289,290,291,292,293,294,295,296,297,298,299,300,301,302,303,304,305,306,307,308,309,310,311,312,313,314,315,316,317,318,319,320,321,322,323,324,325,326,327,328,329,330,331,332,333,334,335,336,337,338,339,340,341,342,343,344,345,346,347,348,349,350,351,352,353,354,355,356,357,358,359,360,361,362,363,364,365,366,367,368,369,370,371,372,373,374,375,376,377,378,379,380,381,382,383,384,385,386,387,388,389,390,391,392,393,394,395,396,397,398,399,400,401,402,403,404,405,406,407,408,409,410,411,412,413,414,415,416,417,418,419,420,421,422,423,424,425,426,427,428,429,430,431,432,433,434,435,436,437,438,439,440,441,442,443,444,445,446,447,448,449,450,451,452,453,454,455,456,457,458,459,460,461,462,463,464,465,466,467,468,469,470,471,472,473,474,475,476,477,478,479,480,481,482,483,484,485,486,487,488,489,490,491,492,493,494,495,496,497,498,499,500,501,502,503,504,505,506,507,508,509,510,511,512,513,514,515,516,517,518,519,520,521,522,523,524,525,526,527,528,529,530,531,532,533,534,535,536,537,538,539,540,541,542,543,544,545,546,547,548,549,550,551,552,553,554,555,556,557,558,559,560,561,562,563,564,565,566,567,568,569,570,571,572,573,574,575,576,577,578,579,580,581,582,583,584,585,586,587,588,589,590,591,592,593,594,595,596,597,598,599,600,601,602,603,604,605,606,607,608,609,610,611,612,613,614,615,616,617,618,619,620,621,622,623,624,625,626,627,628,629,630,631,632,633,634,635,636,637,638,639,640,641,642,643,644,645,646,647,648,649,650,651,652,653,654,655,656,657,658,659,660,661,662,663,664,665,666,667,668,669,670,671,672,673,674,675,676,677,678,679,680,681,682,683,684,685,686,687,688,689,690,691,692,693,694,695,696,697,698,699,700,701,702,703,704,705,706,707,708,709,710,711,712,713,714,715,716,717,718,719,720,721,722,723,724,725,726,727,728,729,730,731,732,733,734,735,736,737,738,739,740,741,742,743,744,745,746,747,748,749,750,751,752,753,754,755,756,757,758,759,760,761,762,763,764,765,766,767,768,769,770,771,772,773,774,775,776,777,778,779,780,781,782,783,784,785,786,787,788,789,790,791,792,793,794,795,796,797,798,799,800,801,802,803,804,805,806,807,808,809,810,811,812,813,814,815,816,817,818,819,820,821,822,823,824,825,826,827,828,829,830,831,832,833,834,835,836,837,838,839,840,841,842,843,844,845,846,847,848,849,850,851,852,853,854,855,856,857,858,859,860,861,862,863,864,865,866,867,868,869,870,871,872,873,874,875,876,877,878,879,880,881,882,883,884,885,886,887,888,889,890,891,892,893,894,895,896,897,898,899,900,901,902,903,904,905,906,907,908,909,910,911,912,913,914,915,916,917,918,919,920,921,922,923,924,925,926,927,928,929,930,931,932,933,934,935,936,937,938,939,940,941,942,943,944,945,946,947,948,949,950,951,952,953,954,955,956,957,958,959,960,961,962,963,964,965,966,967,968,969,970,971,972,973,974,975,976,977,978,979,980,981,982,983,984,985,986,987,988,989,990,991,992,993,994,995,996,997,998,999,1000,1001,1002,1003,1004,1005,1006,1007,1008,1009,1010,1011,1012,1013,1014,1015,1016,1017,1018,1019,1020,1021,1022,1023,1024,1025,1026,1027,1028,1029,1030,1031,1032,1033,1034,1035,1036,1037,1038,1039,1040,1041,1042,1043,1044,1045,1046,1047,1048,1049,1050,1051,1052,1053,1054,1055,1056,1057,1058,1059,1060,1061,1062,1063,1064,1065,1066,1067,1068,1069,1070,1071,1072,1073,1074,1075,1076,1077,1078,1079,1080,1081,1082,1083,1084,1085,1086,1087,1088,1089,1090,1091,1092,1093,1094,1095,1096,1097,1098,1099,1100,1101,1102,1103,1104,1105,1106,1107,1108,1109,1110,1111,1112,1113,1114,1115,1116,1117,1118,1119,1120,1121,1122,1123,1124,1125,1126,1127,1128,1129,1130,1131,1132,1133,1134,1135,1136,1137,1138,1139,1140,1141,1142,1143,1144,1145,1146,1147,1148,1149,1150,1151,1152,1153,1154,1155,1156,1157,1158,1159,1160,1161,1162,1163,1164,1165,1166,1167,1168,1169,1170,1171,1172,1173,1174,1175,1176,1177,1178,1179,1180,1181,1182,1183,1184,1185,1186,1187,1188,1189,1190,1191,1192,1193,1194,1195,1196,1197,1198,1199,1200,1201,1202,1203,1204,1205,1206,1207,1208,1209,1210,1211,1212,1213,1214,1215,1216,1217,1218,1219,1220,1221,1222,1223,1224,1225,1226,1227,1228,1229,1230,1231,1232,1233,1234,1235,1236,1237,1238,1239,1240,1241,1242,1243,1244,1245,1246,1247,1248,1249,1250,1251,1252,1253,1254,1255,1256,1257,1258,1259,1260,1261,1262,1263,1264) have mixed types. Specify dtype option on import or set low_memory=False.\n",
      "  credits=pd.read_csv('tmdb_5000_credits.csv')\n"
     ]
    }
   ],
   "source": [
    "#Load the data \n",
    "movies=pd.read_csv('tmdb_5000_movies.csv')\n",
    "credits=pd.read_csv('tmdb_5000_credits.csv')"
   ]
  },
  {
   "cell_type": "code",
   "execution_count": 135,
   "metadata": {},
   "outputs": [
    {
     "data": {
      "text/html": [
       "<div>\n",
       "<style scoped>\n",
       "    .dataframe tbody tr th:only-of-type {\n",
       "        vertical-align: middle;\n",
       "    }\n",
       "\n",
       "    .dataframe tbody tr th {\n",
       "        vertical-align: top;\n",
       "    }\n",
       "\n",
       "    .dataframe thead th {\n",
       "        text-align: right;\n",
       "    }\n",
       "</style>\n",
       "<table border=\"1\" class=\"dataframe\">\n",
       "  <thead>\n",
       "    <tr style=\"text-align: right;\">\n",
       "      <th></th>\n",
       "      <th>budget</th>\n",
       "      <th>genres</th>\n",
       "      <th>homepage</th>\n",
       "      <th>id</th>\n",
       "      <th>keywords</th>\n",
       "      <th>original_language</th>\n",
       "      <th>original_title</th>\n",
       "      <th>overview</th>\n",
       "      <th>popularity</th>\n",
       "      <th>production_companies</th>\n",
       "      <th>production_countries</th>\n",
       "      <th>release_date</th>\n",
       "      <th>revenue</th>\n",
       "      <th>runtime</th>\n",
       "      <th>spoken_languages</th>\n",
       "      <th>status</th>\n",
       "      <th>tagline</th>\n",
       "      <th>title</th>\n",
       "      <th>vote_average</th>\n",
       "      <th>vote_count</th>\n",
       "    </tr>\n",
       "  </thead>\n",
       "  <tbody>\n",
       "    <tr>\n",
       "      <th>0</th>\n",
       "      <td>237000000</td>\n",
       "      <td>[{\"id\": 28, \"name\": \"Action\"}, {\"id\": 12, \"nam...</td>\n",
       "      <td>http://www.avatarmovie.com/</td>\n",
       "      <td>19995</td>\n",
       "      <td>[{\"id\": 1463, \"name\": \"culture clash\"}, {\"id\":...</td>\n",
       "      <td>en</td>\n",
       "      <td>Avatar</td>\n",
       "      <td>In the 22nd century, a paraplegic Marine is di...</td>\n",
       "      <td>150.437577</td>\n",
       "      <td>[{\"name\": \"Ingenious Film Partners\", \"id\": 289...</td>\n",
       "      <td>[{\"iso_3166_1\": \"US\", \"name\": \"United States o...</td>\n",
       "      <td>12/10/2009</td>\n",
       "      <td>2787965087</td>\n",
       "      <td>162.0</td>\n",
       "      <td>[{\"iso_639_1\": \"en\", \"name\": \"English\"}, {\"iso...</td>\n",
       "      <td>Released</td>\n",
       "      <td>Enter the World of Pandora.</td>\n",
       "      <td>Avatar</td>\n",
       "      <td>7.2</td>\n",
       "      <td>11800</td>\n",
       "    </tr>\n",
       "    <tr>\n",
       "      <th>1</th>\n",
       "      <td>300000000</td>\n",
       "      <td>[{\"id\": 12, \"name\": \"Adventure\"}, {\"id\": 14, \"...</td>\n",
       "      <td>http://disney.go.com/disneypictures/pirates/</td>\n",
       "      <td>285</td>\n",
       "      <td>[{\"id\": 270, \"name\": \"ocean\"}, {\"id\": 726, \"na...</td>\n",
       "      <td>en</td>\n",
       "      <td>Pirates of the Caribbean: At World's End</td>\n",
       "      <td>Captain Barbossa, long believed to be dead, ha...</td>\n",
       "      <td>139.082615</td>\n",
       "      <td>[{\"name\": \"Walt Disney Pictures\", \"id\": 2}, {\"...</td>\n",
       "      <td>[{\"iso_3166_1\": \"US\", \"name\": \"United States o...</td>\n",
       "      <td>5/19/2007</td>\n",
       "      <td>961000000</td>\n",
       "      <td>169.0</td>\n",
       "      <td>[{\"iso_639_1\": \"en\", \"name\": \"English\"}]</td>\n",
       "      <td>Released</td>\n",
       "      <td>At the end of the world, the adventure begins.</td>\n",
       "      <td>Pirates of the Caribbean: At World's End</td>\n",
       "      <td>6.9</td>\n",
       "      <td>4500</td>\n",
       "    </tr>\n",
       "    <tr>\n",
       "      <th>2</th>\n",
       "      <td>245000000</td>\n",
       "      <td>[{\"id\": 28, \"name\": \"Action\"}, {\"id\": 12, \"nam...</td>\n",
       "      <td>http://www.sonypictures.com/movies/spectre/</td>\n",
       "      <td>206647</td>\n",
       "      <td>[{\"id\": 470, \"name\": \"spy\"}, {\"id\": 818, \"name...</td>\n",
       "      <td>en</td>\n",
       "      <td>Spectre</td>\n",
       "      <td>A cryptic message from Bond’s past sends him o...</td>\n",
       "      <td>107.376788</td>\n",
       "      <td>[{\"name\": \"Columbia Pictures\", \"id\": 5}, {\"nam...</td>\n",
       "      <td>[{\"iso_3166_1\": \"GB\", \"name\": \"United Kingdom\"...</td>\n",
       "      <td>10/26/2015</td>\n",
       "      <td>880674609</td>\n",
       "      <td>148.0</td>\n",
       "      <td>[{\"iso_639_1\": \"fr\", \"name\": \"Fran\\u00e7ais\"},...</td>\n",
       "      <td>Released</td>\n",
       "      <td>A Plan No One Escapes</td>\n",
       "      <td>Spectre</td>\n",
       "      <td>6.3</td>\n",
       "      <td>4466</td>\n",
       "    </tr>\n",
       "    <tr>\n",
       "      <th>3</th>\n",
       "      <td>250000000</td>\n",
       "      <td>[{\"id\": 28, \"name\": \"Action\"}, {\"id\": 80, \"nam...</td>\n",
       "      <td>http://www.thedarkknightrises.com/</td>\n",
       "      <td>49026</td>\n",
       "      <td>[{\"id\": 849, \"name\": \"dc comics\"}, {\"id\": 853,...</td>\n",
       "      <td>en</td>\n",
       "      <td>The Dark Knight Rises</td>\n",
       "      <td>Following the death of District Attorney Harve...</td>\n",
       "      <td>112.312950</td>\n",
       "      <td>[{\"name\": \"Legendary Pictures\", \"id\": 923}, {\"...</td>\n",
       "      <td>[{\"iso_3166_1\": \"US\", \"name\": \"United States o...</td>\n",
       "      <td>7/16/2012</td>\n",
       "      <td>1084939099</td>\n",
       "      <td>165.0</td>\n",
       "      <td>[{\"iso_639_1\": \"en\", \"name\": \"English\"}]</td>\n",
       "      <td>Released</td>\n",
       "      <td>The Legend Ends</td>\n",
       "      <td>The Dark Knight Rises</td>\n",
       "      <td>7.6</td>\n",
       "      <td>9106</td>\n",
       "    </tr>\n",
       "    <tr>\n",
       "      <th>4</th>\n",
       "      <td>260000000</td>\n",
       "      <td>[{\"id\": 28, \"name\": \"Action\"}, {\"id\": 12, \"nam...</td>\n",
       "      <td>http://movies.disney.com/john-carter</td>\n",
       "      <td>49529</td>\n",
       "      <td>[{\"id\": 818, \"name\": \"based on novel\"}, {\"id\":...</td>\n",
       "      <td>en</td>\n",
       "      <td>John Carter</td>\n",
       "      <td>John Carter is a war-weary, former military ca...</td>\n",
       "      <td>43.926995</td>\n",
       "      <td>[{\"name\": \"Walt Disney Pictures\", \"id\": 2}]</td>\n",
       "      <td>[{\"iso_3166_1\": \"US\", \"name\": \"United States o...</td>\n",
       "      <td>3/7/2012</td>\n",
       "      <td>284139100</td>\n",
       "      <td>132.0</td>\n",
       "      <td>[{\"iso_639_1\": \"en\", \"name\": \"English\"}]</td>\n",
       "      <td>Released</td>\n",
       "      <td>Lost in our world, found in another.</td>\n",
       "      <td>John Carter</td>\n",
       "      <td>6.1</td>\n",
       "      <td>2124</td>\n",
       "    </tr>\n",
       "  </tbody>\n",
       "</table>\n",
       "</div>"
      ],
      "text/plain": [
       "      budget                                             genres  \\\n",
       "0  237000000  [{\"id\": 28, \"name\": \"Action\"}, {\"id\": 12, \"nam...   \n",
       "1  300000000  [{\"id\": 12, \"name\": \"Adventure\"}, {\"id\": 14, \"...   \n",
       "2  245000000  [{\"id\": 28, \"name\": \"Action\"}, {\"id\": 12, \"nam...   \n",
       "3  250000000  [{\"id\": 28, \"name\": \"Action\"}, {\"id\": 80, \"nam...   \n",
       "4  260000000  [{\"id\": 28, \"name\": \"Action\"}, {\"id\": 12, \"nam...   \n",
       "\n",
       "                                       homepage      id  \\\n",
       "0                   http://www.avatarmovie.com/   19995   \n",
       "1  http://disney.go.com/disneypictures/pirates/     285   \n",
       "2   http://www.sonypictures.com/movies/spectre/  206647   \n",
       "3            http://www.thedarkknightrises.com/   49026   \n",
       "4          http://movies.disney.com/john-carter   49529   \n",
       "\n",
       "                                            keywords original_language  \\\n",
       "0  [{\"id\": 1463, \"name\": \"culture clash\"}, {\"id\":...                en   \n",
       "1  [{\"id\": 270, \"name\": \"ocean\"}, {\"id\": 726, \"na...                en   \n",
       "2  [{\"id\": 470, \"name\": \"spy\"}, {\"id\": 818, \"name...                en   \n",
       "3  [{\"id\": 849, \"name\": \"dc comics\"}, {\"id\": 853,...                en   \n",
       "4  [{\"id\": 818, \"name\": \"based on novel\"}, {\"id\":...                en   \n",
       "\n",
       "                             original_title  \\\n",
       "0                                    Avatar   \n",
       "1  Pirates of the Caribbean: At World's End   \n",
       "2                                   Spectre   \n",
       "3                     The Dark Knight Rises   \n",
       "4                               John Carter   \n",
       "\n",
       "                                            overview  popularity  \\\n",
       "0  In the 22nd century, a paraplegic Marine is di...  150.437577   \n",
       "1  Captain Barbossa, long believed to be dead, ha...  139.082615   \n",
       "2  A cryptic message from Bond’s past sends him o...  107.376788   \n",
       "3  Following the death of District Attorney Harve...  112.312950   \n",
       "4  John Carter is a war-weary, former military ca...   43.926995   \n",
       "\n",
       "                                production_companies  \\\n",
       "0  [{\"name\": \"Ingenious Film Partners\", \"id\": 289...   \n",
       "1  [{\"name\": \"Walt Disney Pictures\", \"id\": 2}, {\"...   \n",
       "2  [{\"name\": \"Columbia Pictures\", \"id\": 5}, {\"nam...   \n",
       "3  [{\"name\": \"Legendary Pictures\", \"id\": 923}, {\"...   \n",
       "4        [{\"name\": \"Walt Disney Pictures\", \"id\": 2}]   \n",
       "\n",
       "                                production_countries release_date     revenue  \\\n",
       "0  [{\"iso_3166_1\": \"US\", \"name\": \"United States o...   12/10/2009  2787965087   \n",
       "1  [{\"iso_3166_1\": \"US\", \"name\": \"United States o...    5/19/2007   961000000   \n",
       "2  [{\"iso_3166_1\": \"GB\", \"name\": \"United Kingdom\"...   10/26/2015   880674609   \n",
       "3  [{\"iso_3166_1\": \"US\", \"name\": \"United States o...    7/16/2012  1084939099   \n",
       "4  [{\"iso_3166_1\": \"US\", \"name\": \"United States o...     3/7/2012   284139100   \n",
       "\n",
       "   runtime                                   spoken_languages    status  \\\n",
       "0    162.0  [{\"iso_639_1\": \"en\", \"name\": \"English\"}, {\"iso...  Released   \n",
       "1    169.0           [{\"iso_639_1\": \"en\", \"name\": \"English\"}]  Released   \n",
       "2    148.0  [{\"iso_639_1\": \"fr\", \"name\": \"Fran\\u00e7ais\"},...  Released   \n",
       "3    165.0           [{\"iso_639_1\": \"en\", \"name\": \"English\"}]  Released   \n",
       "4    132.0           [{\"iso_639_1\": \"en\", \"name\": \"English\"}]  Released   \n",
       "\n",
       "                                          tagline  \\\n",
       "0                     Enter the World of Pandora.   \n",
       "1  At the end of the world, the adventure begins.   \n",
       "2                           A Plan No One Escapes   \n",
       "3                                 The Legend Ends   \n",
       "4            Lost in our world, found in another.   \n",
       "\n",
       "                                      title  vote_average  vote_count  \n",
       "0                                    Avatar           7.2       11800  \n",
       "1  Pirates of the Caribbean: At World's End           6.9        4500  \n",
       "2                                   Spectre           6.3        4466  \n",
       "3                     The Dark Knight Rises           7.6        9106  \n",
       "4                               John Carter           6.1        2124  "
      ]
     },
     "execution_count": 135,
     "metadata": {},
     "output_type": "execute_result"
    }
   ],
   "source": [
    "movies.head()"
   ]
  },
  {
   "cell_type": "code",
   "execution_count": 136,
   "metadata": {},
   "outputs": [
    {
     "data": {
      "text/plain": [
       "6.092171559442016"
      ]
     },
     "execution_count": 136,
     "metadata": {},
     "output_type": "execute_result"
    }
   ],
   "source": [
    "C= movies['vote_average'].mean()\n",
    "C"
   ]
  },
  {
   "cell_type": "code",
   "execution_count": 137,
   "metadata": {},
   "outputs": [
    {
     "data": {
      "text/plain": [
       "1838.4000000000015"
      ]
     },
     "execution_count": 137,
     "metadata": {},
     "output_type": "execute_result"
    }
   ],
   "source": [
    "m= movies['vote_count'].quantile(0.9)\n",
    "m"
   ]
  },
  {
   "cell_type": "code",
   "execution_count": 138,
   "metadata": {},
   "outputs": [],
   "source": [
    "# Filter based on popularity\n",
    "movies = movies[movies['vote_average'] >= 8]"
   ]
  },
  {
   "cell_type": "markdown",
   "metadata": {},
   "source": [
    "## Data Visualizations"
   ]
  },
  {
   "cell_type": "code",
   "execution_count": 139,
   "metadata": {},
   "outputs": [
    {
     "data": {
      "image/png": "[encoded data removed]",
      "text/plain": [
       "<Figure size 1200x400 with 1 Axes>"
      ]
     },
     "metadata": {},
     "output_type": "display_data"
    }
   ],
   "source": [
    "import matplotlib.pyplot as plt\n",
    "\n",
    "# Use ggplot style\n",
    "plt.style.use('ggplot')\n",
    "\n",
    "# Assuming 'movies' DataFrame is already defined and has 'title' and 'popularity' columns\n",
    "pop = movies.sort_values('popularity', ascending=False)\n",
    "\n",
    "# Create a figure with specified size\n",
    "fig, ax = plt.subplots(figsize=(12, 4))\n",
    "\n",
    "# Plot horizontal bar chart with neon pink color\n",
    "ax.barh(pop['title'].head(6), pop['popularity'].head(6), align='center', color='#FF6EC7')  # Neon pink color code\n",
    "\n",
    "# Invert y-axis to have the most popular movie at the top\n",
    "ax.invert_yaxis()\n",
    "\n",
    "# Set the background color to dark\n",
    "ax.set_facecolor('#2E2E2E')  # Dark background color\n",
    "fig.patch.set_facecolor('#2E2E2E')\n",
    "\n",
    "# Set the labels and title with white color for better visibility\n",
    "ax.set_xlabel(\"Popularity\", color='white')\n",
    "ax.set_title(\"Popular Movies\", color='white')\n",
    "\n",
    "# Change the color of the ticks and tick labels to white\n",
    "ax.tick_params(colors='white', which='both')  # both major and minor ticks are affected\n",
    "plt.yticks(color='white')\n",
    "plt.xticks(color='white')\n",
    "\n",
    "# Show the plot\n",
    "plt.show()\n"
   ]
  },
  {
   "cell_type": "code",
   "execution_count": 140,
   "metadata": {},
   "outputs": [
    {
     "data": {
      "image/png": "[encoded data removed]",
      "text/plain": [
       "<Figure size 1200x400 with 1 Axes>"
      ]
     },
     "metadata": {},
     "output_type": "display_data"
    }
   ],
   "source": [
    "import matplotlib.pyplot as plt\n",
    "\n",
    "# Assuming 'movies' DataFrame is already defined and has 'title' and 'vote_average' columns\n",
    "best_rated = movies.sort_values('vote_average', ascending=False)\n",
    "\n",
    "# Create a figure with specified size\n",
    "fig, ax = plt.subplots(figsize=(12, 4))\n",
    "\n",
    "# Plot horizontal bar chart with neon purple color\n",
    "ax.barh(best_rated['title'].head(6), best_rated['vote_average'].head(6), align='center', color='#9400D3')  # Neon purple color code\n",
    "\n",
    "# Invert y-axis to have the best-rated movie at the top\n",
    "ax.invert_yaxis()\n",
    "\n",
    "# Set the background color to black\n",
    "ax.set_facecolor('black')\n",
    "fig.patch.set_facecolor('black')\n",
    "\n",
    "# Set the labels and title with white color for better visibility\n",
    "ax.set_xlabel(\"Vote Average\", color='white')\n",
    "ax.set_title(\"Best Rated Movies\", color='white')\n",
    "\n",
    "# Change the color of the ticks and tick labels to white\n",
    "ax.tick_params(colors='white', which='both')  # both major and minor ticks are affected\n",
    "plt.yticks(color='white')\n",
    "plt.xticks(color='white')\n",
    "\n",
    "# Show the plot\n",
    "plt.show()\n",
    "\n"
   ]
  },
  {
   "cell_type": "code",
   "execution_count": 141,
   "metadata": {},
   "outputs": [
    {
     "data": {
      "image/png": "[encoded data removed]",
      "text/plain": [
       "<Figure size 1200x400 with 1 Axes>"
      ]
     },
     "metadata": {},
     "output_type": "display_data"
    }
   ],
   "source": [
    "import matplotlib.pyplot as plt\n",
    "\n",
    "# Assuming 'movies' DataFrame is already defined and has 'title' and 'vote_count' columns\n",
    "most_voted = movies.sort_values('vote_count', ascending=False)\n",
    "\n",
    "# Create a figure with specified size\n",
    "fig, ax = plt.subplots(figsize=(12, 4))\n",
    "\n",
    "# Plot horizontal bar chart with neon yellow color\n",
    "ax.barh(most_voted['title'].head(6), most_voted['vote_count'].head(6), align='center', color='#FFFF00')  # Neon yellow color code\n",
    "\n",
    "# Invert y-axis to have the most voted movie at the top\n",
    "ax.invert_yaxis()\n",
    "\n",
    "# Set the background color to black\n",
    "ax.set_facecolor('black')\n",
    "fig.patch.set_facecolor('black')\n",
    "\n",
    "# Set the labels and title with white color for better visibility\n",
    "ax.set_xlabel(\"Vote Count\", color='white')\n",
    "ax.set_title(\"Most Rated Movies\", color='white')\n",
    "\n",
    "# Change the color of the ticks and tick labels to white\n",
    "ax.tick_params(colors='white', which='both')  # both major and minor ticks are affected\n",
    "plt.yticks(color='white')\n",
    "plt.xticks(color='white')\n",
    "\n",
    "# Show the plot\n",
    "plt.show()\n",
    "\n"
   ]
  },
  {
   "cell_type": "code",
   "execution_count": 142,
   "metadata": {},
   "outputs": [
    {
     "data": {
      "text/html": [
       "<div>\n",
       "<style scoped>\n",
       "    .dataframe tbody tr th:only-of-type {\n",
       "        vertical-align: middle;\n",
       "    }\n",
       "\n",
       "    .dataframe tbody tr th {\n",
       "        vertical-align: top;\n",
       "    }\n",
       "\n",
       "    .dataframe thead th {\n",
       "        text-align: right;\n",
       "    }\n",
       "</style>\n",
       "<table border=\"1\" class=\"dataframe\">\n",
       "  <thead>\n",
       "    <tr style=\"text-align: right;\">\n",
       "      <th></th>\n",
       "      <th>budget</th>\n",
       "      <th>genres</th>\n",
       "      <th>homepage</th>\n",
       "      <th>id</th>\n",
       "      <th>keywords</th>\n",
       "      <th>original_language</th>\n",
       "      <th>original_title</th>\n",
       "      <th>overview</th>\n",
       "      <th>popularity</th>\n",
       "      <th>production_companies</th>\n",
       "      <th>...</th>\n",
       "      <th>release_date</th>\n",
       "      <th>revenue</th>\n",
       "      <th>runtime</th>\n",
       "      <th>spoken_languages</th>\n",
       "      <th>status</th>\n",
       "      <th>tagline</th>\n",
       "      <th>title</th>\n",
       "      <th>vote_average</th>\n",
       "      <th>vote_count</th>\n",
       "      <th>year</th>\n",
       "    </tr>\n",
       "  </thead>\n",
       "  <tbody>\n",
       "    <tr>\n",
       "      <th>65</th>\n",
       "      <td>185000000</td>\n",
       "      <td>[{\"id\": 18, \"name\": \"Drama\"}, {\"id\": 28, \"name...</td>\n",
       "      <td>http://thedarkknight.warnerbros.com/dvdsite/</td>\n",
       "      <td>155</td>\n",
       "      <td>[{\"id\": 849, \"name\": \"dc comics\"}, {\"id\": 853,...</td>\n",
       "      <td>en</td>\n",
       "      <td>The Dark Knight</td>\n",
       "      <td>Batman raises the stakes in his war on crime. ...</td>\n",
       "      <td>187.322927</td>\n",
       "      <td>[{\"name\": \"DC Comics\", \"id\": 429}, {\"name\": \"L...</td>\n",
       "      <td>...</td>\n",
       "      <td>7/16/2008</td>\n",
       "      <td>1004558444</td>\n",
       "      <td>152.0</td>\n",
       "      <td>[{\"iso_639_1\": \"en\", \"name\": \"English\"}, {\"iso...</td>\n",
       "      <td>Released</td>\n",
       "      <td>Why So Serious?</td>\n",
       "      <td>The Dark Knight</td>\n",
       "      <td>8.2</td>\n",
       "      <td>12002</td>\n",
       "      <td>2008</td>\n",
       "    </tr>\n",
       "    <tr>\n",
       "      <th>77</th>\n",
       "      <td>175000000</td>\n",
       "      <td>[{\"id\": 18, \"name\": \"Drama\"}, {\"id\": 35, \"name...</td>\n",
       "      <td>http://movies.disney.com/inside-out</td>\n",
       "      <td>150540</td>\n",
       "      <td>[{\"id\": 1566, \"name\": \"dream\"}, {\"id\": 6513, \"...</td>\n",
       "      <td>en</td>\n",
       "      <td>Inside Out</td>\n",
       "      <td>Growing up can be a bumpy road, and it's no ex...</td>\n",
       "      <td>128.655964</td>\n",
       "      <td>[{\"name\": \"Walt Disney Pictures\", \"id\": 2}, {\"...</td>\n",
       "      <td>...</td>\n",
       "      <td>6/9/2015</td>\n",
       "      <td>857611174</td>\n",
       "      <td>94.0</td>\n",
       "      <td>[{\"iso_639_1\": \"en\", \"name\": \"English\"}]</td>\n",
       "      <td>Released</td>\n",
       "      <td>Meet the little voices inside your head.</td>\n",
       "      <td>Inside Out</td>\n",
       "      <td>8.0</td>\n",
       "      <td>6560</td>\n",
       "      <td>2015</td>\n",
       "    </tr>\n",
       "    <tr>\n",
       "      <th>95</th>\n",
       "      <td>165000000</td>\n",
       "      <td>[{\"id\": 12, \"name\": \"Adventure\"}, {\"id\": 18, \"...</td>\n",
       "      <td>http://www.interstellarmovie.net/</td>\n",
       "      <td>157336</td>\n",
       "      <td>[{\"id\": 83, \"name\": \"saving the world\"}, {\"id\"...</td>\n",
       "      <td>en</td>\n",
       "      <td>Interstellar</td>\n",
       "      <td>Interstellar chronicles the adventures of a gr...</td>\n",
       "      <td>724.247784</td>\n",
       "      <td>[{\"name\": \"Paramount Pictures\", \"id\": 4}, {\"na...</td>\n",
       "      <td>...</td>\n",
       "      <td>11/5/2014</td>\n",
       "      <td>675120017</td>\n",
       "      <td>169.0</td>\n",
       "      <td>[{\"iso_639_1\": \"en\", \"name\": \"English\"}]</td>\n",
       "      <td>Released</td>\n",
       "      <td>Mankind was born on Earth. It was never meant ...</td>\n",
       "      <td>Interstellar</td>\n",
       "      <td>8.1</td>\n",
       "      <td>10867</td>\n",
       "      <td>2014</td>\n",
       "    </tr>\n",
       "    <tr>\n",
       "      <th>96</th>\n",
       "      <td>160000000</td>\n",
       "      <td>[{\"id\": 28, \"name\": \"Action\"}, {\"id\": 53, \"nam...</td>\n",
       "      <td>http://inceptionmovie.warnerbros.com/</td>\n",
       "      <td>27205</td>\n",
       "      <td>[{\"id\": 1014, \"name\": \"loss of lover\"}, {\"id\":...</td>\n",
       "      <td>en</td>\n",
       "      <td>Inception</td>\n",
       "      <td>Cobb, a skilled thief who commits corporate es...</td>\n",
       "      <td>167.583710</td>\n",
       "      <td>[{\"name\": \"Legendary Pictures\", \"id\": 923}, {\"...</td>\n",
       "      <td>...</td>\n",
       "      <td>7/14/2010</td>\n",
       "      <td>825532764</td>\n",
       "      <td>148.0</td>\n",
       "      <td>[{\"iso_639_1\": \"en\", \"name\": \"English\"}, {\"iso...</td>\n",
       "      <td>Released</td>\n",
       "      <td>Your mind is the scene of the crime.</td>\n",
       "      <td>Inception</td>\n",
       "      <td>8.1</td>\n",
       "      <td>13752</td>\n",
       "      <td>2010</td>\n",
       "    </tr>\n",
       "    <tr>\n",
       "      <th>262</th>\n",
       "      <td>93000000</td>\n",
       "      <td>[{\"id\": 12, \"name\": \"Adventure\"}, {\"id\": 14, \"...</td>\n",
       "      <td>http://www.lordoftherings.net/</td>\n",
       "      <td>120</td>\n",
       "      <td>[{\"id\": 603, \"name\": \"elves\"}, {\"id\": 604, \"na...</td>\n",
       "      <td>en</td>\n",
       "      <td>The Lord of the Rings: The Fellowship of the Ring</td>\n",
       "      <td>Young hobbit Frodo Baggins, after inheriting a...</td>\n",
       "      <td>138.049577</td>\n",
       "      <td>[{\"name\": \"WingNut Films\", \"id\": 11}, {\"name\":...</td>\n",
       "      <td>...</td>\n",
       "      <td>12/18/2001</td>\n",
       "      <td>871368364</td>\n",
       "      <td>178.0</td>\n",
       "      <td>[{\"iso_639_1\": \"en\", \"name\": \"English\"}]</td>\n",
       "      <td>Released</td>\n",
       "      <td>One ring to rule them all</td>\n",
       "      <td>The Lord of the Rings: The Fellowship of the Ring</td>\n",
       "      <td>8.0</td>\n",
       "      <td>8705</td>\n",
       "      <td>2001</td>\n",
       "    </tr>\n",
       "  </tbody>\n",
       "</table>\n",
       "<p>5 rows × 21 columns</p>\n",
       "</div>"
      ],
      "text/plain": [
       "        budget                                             genres  \\\n",
       "65   185000000  [{\"id\": 18, \"name\": \"Drama\"}, {\"id\": 28, \"name...   \n",
       "77   175000000  [{\"id\": 18, \"name\": \"Drama\"}, {\"id\": 35, \"name...   \n",
       "95   165000000  [{\"id\": 12, \"name\": \"Adventure\"}, {\"id\": 18, \"...   \n",
       "96   160000000  [{\"id\": 28, \"name\": \"Action\"}, {\"id\": 53, \"nam...   \n",
       "262   93000000  [{\"id\": 12, \"name\": \"Adventure\"}, {\"id\": 14, \"...   \n",
       "\n",
       "                                         homepage      id  \\\n",
       "65   http://thedarkknight.warnerbros.com/dvdsite/     155   \n",
       "77            http://movies.disney.com/inside-out  150540   \n",
       "95              http://www.interstellarmovie.net/  157336   \n",
       "96          http://inceptionmovie.warnerbros.com/   27205   \n",
       "262                http://www.lordoftherings.net/     120   \n",
       "\n",
       "                                              keywords original_language  \\\n",
       "65   [{\"id\": 849, \"name\": \"dc comics\"}, {\"id\": 853,...                en   \n",
       "77   [{\"id\": 1566, \"name\": \"dream\"}, {\"id\": 6513, \"...                en   \n",
       "95   [{\"id\": 83, \"name\": \"saving the world\"}, {\"id\"...                en   \n",
       "96   [{\"id\": 1014, \"name\": \"loss of lover\"}, {\"id\":...                en   \n",
       "262  [{\"id\": 603, \"name\": \"elves\"}, {\"id\": 604, \"na...                en   \n",
       "\n",
       "                                        original_title  \\\n",
       "65                                     The Dark Knight   \n",
       "77                                          Inside Out   \n",
       "95                                        Interstellar   \n",
       "96                                           Inception   \n",
       "262  The Lord of the Rings: The Fellowship of the Ring   \n",
       "\n",
       "                                              overview  popularity  \\\n",
       "65   Batman raises the stakes in his war on crime. ...  187.322927   \n",
       "77   Growing up can be a bumpy road, and it's no ex...  128.655964   \n",
       "95   Interstellar chronicles the adventures of a gr...  724.247784   \n",
       "96   Cobb, a skilled thief who commits corporate es...  167.583710   \n",
       "262  Young hobbit Frodo Baggins, after inheriting a...  138.049577   \n",
       "\n",
       "                                  production_companies  ... release_date  \\\n",
       "65   [{\"name\": \"DC Comics\", \"id\": 429}, {\"name\": \"L...  ...    7/16/2008   \n",
       "77   [{\"name\": \"Walt Disney Pictures\", \"id\": 2}, {\"...  ...     6/9/2015   \n",
       "95   [{\"name\": \"Paramount Pictures\", \"id\": 4}, {\"na...  ...    11/5/2014   \n",
       "96   [{\"name\": \"Legendary Pictures\", \"id\": 923}, {\"...  ...    7/14/2010   \n",
       "262  [{\"name\": \"WingNut Films\", \"id\": 11}, {\"name\":...  ...   12/18/2001   \n",
       "\n",
       "        revenue  runtime                                   spoken_languages  \\\n",
       "65   1004558444    152.0  [{\"iso_639_1\": \"en\", \"name\": \"English\"}, {\"iso...   \n",
       "77    857611174     94.0           [{\"iso_639_1\": \"en\", \"name\": \"English\"}]   \n",
       "95    675120017    169.0           [{\"iso_639_1\": \"en\", \"name\": \"English\"}]   \n",
       "96    825532764    148.0  [{\"iso_639_1\": \"en\", \"name\": \"English\"}, {\"iso...   \n",
       "262   871368364    178.0           [{\"iso_639_1\": \"en\", \"name\": \"English\"}]   \n",
       "\n",
       "       status                                            tagline  \\\n",
       "65   Released                                    Why So Serious?   \n",
       "77   Released           Meet the little voices inside your head.   \n",
       "95   Released  Mankind was born on Earth. It was never meant ...   \n",
       "96   Released               Your mind is the scene of the crime.   \n",
       "262  Released                          One ring to rule them all   \n",
       "\n",
       "                                                 title vote_average  \\\n",
       "65                                     The Dark Knight          8.2   \n",
       "77                                          Inside Out          8.0   \n",
       "95                                        Interstellar          8.1   \n",
       "96                                           Inception          8.1   \n",
       "262  The Lord of the Rings: The Fellowship of the Ring          8.0   \n",
       "\n",
       "     vote_count  year  \n",
       "65        12002  2008  \n",
       "77         6560  2015  \n",
       "95        10867  2014  \n",
       "96        13752  2010  \n",
       "262        8705  2001  \n",
       "\n",
       "[5 rows x 21 columns]"
      ]
     },
     "execution_count": 142,
     "metadata": {},
     "output_type": "execute_result"
    }
   ],
   "source": [
    "# Create year column\n",
    "movies['year'] = movies['release_date'].str[-4:]\n",
    "movies.head()"
   ]
  },
  {
   "cell_type": "code",
   "execution_count": 143,
   "metadata": {},
   "outputs": [
    {
     "data": {
      "image/png": "[encoded data removed]",
      "text/plain": [
       "<Figure size 1500x1600 with 1 Axes>"
      ]
     },
     "metadata": {},
     "output_type": "display_data"
    }
   ],
   "source": [
    "import matplotlib.pyplot as plt\n",
    "\n",
    "# Assuming 'movies' DataFrame is already defined and has 'year' and 'revenue' columns\n",
    "fig, ax = plt.subplots(figsize=(15, 16))\n",
    "\n",
    "# Plot horizontal bar chart with neon green color\n",
    "movies.groupby('year')['revenue'].mean().plot(kind='barh', ax=ax, color='#39FF14')  # Neon green color code\n",
    "\n",
    "# Set the background color to black\n",
    "ax.set_facecolor('black')\n",
    "fig.patch.set_facecolor('black')\n",
    "\n",
    "# Set the title and labels with white color for better visibility\n",
    "plt.title('Average Movie Revenue by Year', color='white')\n",
    "plt.xlabel('Average Revenue', color='white')\n",
    "plt.ylabel('Year', color='white')\n",
    "\n",
    "# Change the color of the ticks and tick labels to white\n",
    "ax.tick_params(colors='white', which='both')  # both major and minor ticks are affected\n",
    "plt.yticks(color='white')\n",
    "plt.xticks(color='white')\n",
    "\n",
    "# Show the plot\n",
    "plt.show()\n"
   ]
  },
  {
   "cell_type": "code",
   "execution_count": 144,
   "metadata": {},
   "outputs": [
    {
     "data": {
      "image/png": "[encoded data removed]",
      "text/plain": [
       "<Figure size 1500x1600 with 1 Axes>"
      ]
     },
     "metadata": {},
     "output_type": "display_data"
    }
   ],
   "source": [
    "import matplotlib.pyplot as plt\n",
    "\n",
    "# Assuming 'movies' DataFrame is already defined and has 'year' and 'vote_average' columns\n",
    "# Group by year and calculate the mean vote average\n",
    "avg_rating_by_year = movies.groupby('year')['vote_average'].mean()\n",
    "\n",
    "# Create a figure with specified size\n",
    "fig, ax = plt.subplots(figsize=(15, 16))\n",
    "\n",
    "# Plot horizontal bar chart with neon blue color\n",
    "avg_rating_by_year.plot(kind='barh', color='#00FFFF', ax=ax)  # Neon blue color code\n",
    "\n",
    "# Set the background color to black\n",
    "ax.set_facecolor('black')\n",
    "fig.patch.set_facecolor('black')\n",
    "\n",
    "# Set the labels and title with white color for better visibility\n",
    "ax.set_xlabel('Average Rating', color='white')\n",
    "ax.set_ylabel('Year', color='white')\n",
    "ax.set_title('Average Movie Rating by Year', color='white')\n",
    "\n",
    "# Change the color of the ticks and tick labels to white\n",
    "ax.tick_params(colors='white', which='both')  # both major and minor ticks are affected\n",
    "plt.yticks(color='white')\n",
    "plt.xticks(color='white')\n",
    "\n",
    "# Show the plot\n",
    "plt.show()\n"
   ]
  },
  {
   "cell_type": "code",
   "execution_count": 145,
   "metadata": {},
   "outputs": [],
   "source": [
    "def weighted_rating(x, movies=movies, credits=credits):\n",
    "    v = x['vote_count']\n",
    "    R = x['vote_average']\n",
    "    # Calculation based on the IMDB formula\n",
    "    return (v/(v+m) * R) + (m/(m+v) * C)"
   ]
  },
  {
   "cell_type": "code",
   "execution_count": 146,
   "metadata": {},
   "outputs": [
    {
     "data": {
      "text/html": [
       "<div>\n",
       "<style scoped>\n",
       "    .dataframe tbody tr th:only-of-type {\n",
       "        vertical-align: middle;\n",
       "    }\n",
       "\n",
       "    .dataframe tbody tr th {\n",
       "        vertical-align: top;\n",
       "    }\n",
       "\n",
       "    .dataframe thead th {\n",
       "        text-align: right;\n",
       "    }\n",
       "</style>\n",
       "<table border=\"1\" class=\"dataframe\">\n",
       "  <thead>\n",
       "    <tr style=\"text-align: right;\">\n",
       "      <th></th>\n",
       "      <th>movie_id</th>\n",
       "      <th>title</th>\n",
       "      <th>cast</th>\n",
       "      <th>crew</th>\n",
       "      <th>Unnamed: 4</th>\n",
       "      <th>Unnamed: 5</th>\n",
       "      <th>Unnamed: 6</th>\n",
       "      <th>Unnamed: 7</th>\n",
       "      <th>Unnamed: 8</th>\n",
       "      <th>Unnamed: 9</th>\n",
       "      <th>...</th>\n",
       "      <th>Unnamed: 1255</th>\n",
       "      <th>Unnamed: 1256</th>\n",
       "      <th>Unnamed: 1257</th>\n",
       "      <th>Unnamed: 1258</th>\n",
       "      <th>Unnamed: 1259</th>\n",
       "      <th>Unnamed: 1260</th>\n",
       "      <th>Unnamed: 1261</th>\n",
       "      <th>Unnamed: 1262</th>\n",
       "      <th>Unnamed: 1263</th>\n",
       "      <th>Unnamed: 1264</th>\n",
       "    </tr>\n",
       "  </thead>\n",
       "  <tbody>\n",
       "    <tr>\n",
       "      <th>0</th>\n",
       "      <td>19995</td>\n",
       "      <td>Avatar</td>\n",
       "      <td>[{\"cast_id\": 242, \"character\": \"Jake Sully\", \"...</td>\n",
       "      <td>[{\"credit_id\": \"52fe48009251416c750aca23\", \"de...</td>\n",
       "      <td>NaN</td>\n",
       "      <td>NaN</td>\n",
       "      <td>NaN</td>\n",
       "      <td>NaN</td>\n",
       "      <td>NaN</td>\n",
       "      <td>NaN</td>\n",
       "      <td>...</td>\n",
       "      <td>NaN</td>\n",
       "      <td>NaN</td>\n",
       "      <td>NaN</td>\n",
       "      <td>NaN</td>\n",
       "      <td>NaN</td>\n",
       "      <td>NaN</td>\n",
       "      <td>NaN</td>\n",
       "      <td>NaN</td>\n",
       "      <td>NaN</td>\n",
       "      <td>NaN</td>\n",
       "    </tr>\n",
       "    <tr>\n",
       "      <th>1</th>\n",
       "      <td>285</td>\n",
       "      <td>Pirates of the Caribbean: At World's End</td>\n",
       "      <td>[{\"cast_id\": 4, \"character\": \"Captain Jack Spa...</td>\n",
       "      <td>[{\"credit_id\": \"52fe4232c3a36847f800b579\", \"de...</td>\n",
       "      <td>NaN</td>\n",
       "      <td>NaN</td>\n",
       "      <td>NaN</td>\n",
       "      <td>NaN</td>\n",
       "      <td>NaN</td>\n",
       "      <td>NaN</td>\n",
       "      <td>...</td>\n",
       "      <td>NaN</td>\n",
       "      <td>NaN</td>\n",
       "      <td>NaN</td>\n",
       "      <td>NaN</td>\n",
       "      <td>NaN</td>\n",
       "      <td>NaN</td>\n",
       "      <td>NaN</td>\n",
       "      <td>NaN</td>\n",
       "      <td>NaN</td>\n",
       "      <td>NaN</td>\n",
       "    </tr>\n",
       "    <tr>\n",
       "      <th>2</th>\n",
       "      <td>206647</td>\n",
       "      <td>Spectre</td>\n",
       "      <td>[{\"cast_id\": 1, \"character\": \"James Bond\", \"cr...</td>\n",
       "      <td>[{\"credit_id\": \"54805967c3a36829b5002c41\", \"de...</td>\n",
       "      <td>NaN</td>\n",
       "      <td>NaN</td>\n",
       "      <td>NaN</td>\n",
       "      <td>NaN</td>\n",
       "      <td>NaN</td>\n",
       "      <td>NaN</td>\n",
       "      <td>...</td>\n",
       "      <td>NaN</td>\n",
       "      <td>NaN</td>\n",
       "      <td>NaN</td>\n",
       "      <td>NaN</td>\n",
       "      <td>NaN</td>\n",
       "      <td>NaN</td>\n",
       "      <td>NaN</td>\n",
       "      <td>NaN</td>\n",
       "      <td>NaN</td>\n",
       "      <td>NaN</td>\n",
       "    </tr>\n",
       "    <tr>\n",
       "      <th>3</th>\n",
       "      <td>49026</td>\n",
       "      <td>The Dark Knight Rises</td>\n",
       "      <td>[{\"cast_id\": 2, \"character\": \"Bruce Wayne / Ba...</td>\n",
       "      <td>[{\"credit_id\": \"52fe4781c3a36847f81398c3\", \"de...</td>\n",
       "      <td>NaN</td>\n",
       "      <td>NaN</td>\n",
       "      <td>NaN</td>\n",
       "      <td>NaN</td>\n",
       "      <td>NaN</td>\n",
       "      <td>NaN</td>\n",
       "      <td>...</td>\n",
       "      <td>NaN</td>\n",
       "      <td>NaN</td>\n",
       "      <td>NaN</td>\n",
       "      <td>NaN</td>\n",
       "      <td>NaN</td>\n",
       "      <td>NaN</td>\n",
       "      <td>NaN</td>\n",
       "      <td>NaN</td>\n",
       "      <td>NaN</td>\n",
       "      <td>NaN</td>\n",
       "    </tr>\n",
       "    <tr>\n",
       "      <th>4</th>\n",
       "      <td>49529</td>\n",
       "      <td>John Carter</td>\n",
       "      <td>[{\"cast_id\": 5, \"character\": \"John Carter\", \"c...</td>\n",
       "      <td>[{\"credit_id\": \"52fe479ac3a36847f813eaa3\", \"de...</td>\n",
       "      <td>NaN</td>\n",
       "      <td>NaN</td>\n",
       "      <td>NaN</td>\n",
       "      <td>NaN</td>\n",
       "      <td>NaN</td>\n",
       "      <td>NaN</td>\n",
       "      <td>...</td>\n",
       "      <td>NaN</td>\n",
       "      <td>NaN</td>\n",
       "      <td>NaN</td>\n",
       "      <td>NaN</td>\n",
       "      <td>NaN</td>\n",
       "      <td>NaN</td>\n",
       "      <td>NaN</td>\n",
       "      <td>NaN</td>\n",
       "      <td>NaN</td>\n",
       "      <td>NaN</td>\n",
       "    </tr>\n",
       "  </tbody>\n",
       "</table>\n",
       "<p>5 rows × 1265 columns</p>\n",
       "</div>"
      ],
      "text/plain": [
       "  movie_id                                     title  \\\n",
       "0    19995                                    Avatar   \n",
       "1      285  Pirates of the Caribbean: At World's End   \n",
       "2   206647                                   Spectre   \n",
       "3    49026                     The Dark Knight Rises   \n",
       "4    49529                               John Carter   \n",
       "\n",
       "                                                cast  \\\n",
       "0  [{\"cast_id\": 242, \"character\": \"Jake Sully\", \"...   \n",
       "1  [{\"cast_id\": 4, \"character\": \"Captain Jack Spa...   \n",
       "2  [{\"cast_id\": 1, \"character\": \"James Bond\", \"cr...   \n",
       "3  [{\"cast_id\": 2, \"character\": \"Bruce Wayne / Ba...   \n",
       "4  [{\"cast_id\": 5, \"character\": \"John Carter\", \"c...   \n",
       "\n",
       "                                                crew Unnamed: 4 Unnamed: 5  \\\n",
       "0  [{\"credit_id\": \"52fe48009251416c750aca23\", \"de...        NaN        NaN   \n",
       "1  [{\"credit_id\": \"52fe4232c3a36847f800b579\", \"de...        NaN        NaN   \n",
       "2  [{\"credit_id\": \"54805967c3a36829b5002c41\", \"de...        NaN        NaN   \n",
       "3  [{\"credit_id\": \"52fe4781c3a36847f81398c3\", \"de...        NaN        NaN   \n",
       "4  [{\"credit_id\": \"52fe479ac3a36847f813eaa3\", \"de...        NaN        NaN   \n",
       "\n",
       "  Unnamed: 6 Unnamed: 7 Unnamed: 8 Unnamed: 9  ... Unnamed: 1255  \\\n",
       "0        NaN        NaN        NaN        NaN  ...           NaN   \n",
       "1        NaN        NaN        NaN        NaN  ...           NaN   \n",
       "2        NaN        NaN        NaN        NaN  ...           NaN   \n",
       "3        NaN        NaN        NaN        NaN  ...           NaN   \n",
       "4        NaN        NaN        NaN        NaN  ...           NaN   \n",
       "\n",
       "  Unnamed: 1256 Unnamed: 1257 Unnamed: 1258 Unnamed: 1259 Unnamed: 1260  \\\n",
       "0           NaN           NaN           NaN           NaN           NaN   \n",
       "1           NaN           NaN           NaN           NaN           NaN   \n",
       "2           NaN           NaN           NaN           NaN           NaN   \n",
       "3           NaN           NaN           NaN           NaN           NaN   \n",
       "4           NaN           NaN           NaN           NaN           NaN   \n",
       "\n",
       "  Unnamed: 1261 Unnamed: 1262 Unnamed: 1263 Unnamed: 1264  \n",
       "0           NaN           NaN           NaN           NaN  \n",
       "1           NaN           NaN           NaN           NaN  \n",
       "2           NaN           NaN           NaN           NaN  \n",
       "3           NaN           NaN           NaN           NaN  \n",
       "4           NaN           NaN           NaN           NaN  \n",
       "\n",
       "[5 rows x 1265 columns]"
      ]
     },
     "execution_count": 146,
     "metadata": {},
     "output_type": "execute_result"
    }
   ],
   "source": [
    "credits.head()"
   ]
  },
  {
   "cell_type": "code",
   "execution_count": 147,
   "metadata": {},
   "outputs": [
    {
     "name": "stdout",
     "output_type": "stream",
     "text": [
      "movies dataset shape:  (85, 21)\n",
      "credits dataset shape:  (4813, 1265)\n"
     ]
    }
   ],
   "source": [
    "#check the shape of the two dataset \n",
    "print(\"movies dataset shape: \",movies.shape)\n",
    "print(\"credits dataset shape: \",credits.shape)"
   ]
  },
  {
   "cell_type": "code",
   "execution_count": 148,
   "metadata": {},
   "outputs": [
    {
     "data": {
      "text/html": [
       "<div>\n",
       "<style scoped>\n",
       "    .dataframe tbody tr th:only-of-type {\n",
       "        vertical-align: middle;\n",
       "    }\n",
       "\n",
       "    .dataframe tbody tr th {\n",
       "        vertical-align: top;\n",
       "    }\n",
       "\n",
       "    .dataframe thead th {\n",
       "        text-align: right;\n",
       "    }\n",
       "</style>\n",
       "<table border=\"1\" class=\"dataframe\">\n",
       "  <thead>\n",
       "    <tr style=\"text-align: right;\">\n",
       "      <th></th>\n",
       "      <th>budget</th>\n",
       "      <th>genres</th>\n",
       "      <th>homepage</th>\n",
       "      <th>id</th>\n",
       "      <th>keywords</th>\n",
       "      <th>original_language</th>\n",
       "      <th>original_title</th>\n",
       "      <th>overview</th>\n",
       "      <th>popularity</th>\n",
       "      <th>production_companies</th>\n",
       "      <th>...</th>\n",
       "      <th>Unnamed: 1255</th>\n",
       "      <th>Unnamed: 1256</th>\n",
       "      <th>Unnamed: 1257</th>\n",
       "      <th>Unnamed: 1258</th>\n",
       "      <th>Unnamed: 1259</th>\n",
       "      <th>Unnamed: 1260</th>\n",
       "      <th>Unnamed: 1261</th>\n",
       "      <th>Unnamed: 1262</th>\n",
       "      <th>Unnamed: 1263</th>\n",
       "      <th>Unnamed: 1264</th>\n",
       "    </tr>\n",
       "  </thead>\n",
       "  <tbody>\n",
       "    <tr>\n",
       "      <th>0</th>\n",
       "      <td>185000000</td>\n",
       "      <td>[{\"id\": 18, \"name\": \"Drama\"}, {\"id\": 28, \"name...</td>\n",
       "      <td>http://thedarkknight.warnerbros.com/dvdsite/</td>\n",
       "      <td>155</td>\n",
       "      <td>[{\"id\": 849, \"name\": \"dc comics\"}, {\"id\": 853,...</td>\n",
       "      <td>en</td>\n",
       "      <td>The Dark Knight</td>\n",
       "      <td>Batman raises the stakes in his war on crime. ...</td>\n",
       "      <td>187.322927</td>\n",
       "      <td>[{\"name\": \"DC Comics\", \"id\": 429}, {\"name\": \"L...</td>\n",
       "      <td>...</td>\n",
       "      <td>NaN</td>\n",
       "      <td>NaN</td>\n",
       "      <td>NaN</td>\n",
       "      <td>NaN</td>\n",
       "      <td>NaN</td>\n",
       "      <td>NaN</td>\n",
       "      <td>NaN</td>\n",
       "      <td>NaN</td>\n",
       "      <td>NaN</td>\n",
       "      <td>NaN</td>\n",
       "    </tr>\n",
       "  </tbody>\n",
       "</table>\n",
       "<p>1 rows × 1285 columns</p>\n",
       "</div>"
      ],
      "text/plain": [
       "      budget                                             genres  \\\n",
       "0  185000000  [{\"id\": 18, \"name\": \"Drama\"}, {\"id\": 28, \"name...   \n",
       "\n",
       "                                       homepage   id  \\\n",
       "0  http://thedarkknight.warnerbros.com/dvdsite/  155   \n",
       "\n",
       "                                            keywords original_language  \\\n",
       "0  [{\"id\": 849, \"name\": \"dc comics\"}, {\"id\": 853,...                en   \n",
       "\n",
       "    original_title                                           overview  \\\n",
       "0  The Dark Knight  Batman raises the stakes in his war on crime. ...   \n",
       "\n",
       "   popularity                               production_companies  ...  \\\n",
       "0  187.322927  [{\"name\": \"DC Comics\", \"id\": 429}, {\"name\": \"L...  ...   \n",
       "\n",
       "  Unnamed: 1255 Unnamed: 1256  Unnamed: 1257  Unnamed: 1258 Unnamed: 1259  \\\n",
       "0           NaN           NaN            NaN            NaN           NaN   \n",
       "\n",
       "  Unnamed: 1260 Unnamed: 1261 Unnamed: 1262  Unnamed: 1263  Unnamed: 1264  \n",
       "0           NaN           NaN           NaN            NaN            NaN  \n",
       "\n",
       "[1 rows x 1285 columns]"
      ]
     },
     "execution_count": 148,
     "metadata": {},
     "output_type": "execute_result"
    }
   ],
   "source": [
    "# merge the two dataset into one dataset\n",
    "movies=movies.merge(credits,on=\"title\")\n",
    "movies.head(1)"
   ]
  },
  {
   "cell_type": "code",
   "execution_count": 149,
   "metadata": {},
   "outputs": [],
   "source": [
    "# removing the unwanted columns \n",
    "movies=movies[[\"movie_id\",\"title\",\"overview\",\"genres\",\"keywords\",\"cast\",\"crew\"]]"
   ]
  },
  {
   "cell_type": "code",
   "execution_count": 150,
   "metadata": {},
   "outputs": [
    {
     "data": {
      "text/html": [
       "<div>\n",
       "<style scoped>\n",
       "    .dataframe tbody tr th:only-of-type {\n",
       "        vertical-align: middle;\n",
       "    }\n",
       "\n",
       "    .dataframe tbody tr th {\n",
       "        vertical-align: top;\n",
       "    }\n",
       "\n",
       "    .dataframe thead th {\n",
       "        text-align: right;\n",
       "    }\n",
       "</style>\n",
       "<table border=\"1\" class=\"dataframe\">\n",
       "  <thead>\n",
       "    <tr style=\"text-align: right;\">\n",
       "      <th></th>\n",
       "      <th>movie_id</th>\n",
       "      <th>title</th>\n",
       "      <th>overview</th>\n",
       "      <th>genres</th>\n",
       "      <th>keywords</th>\n",
       "      <th>cast</th>\n",
       "      <th>crew</th>\n",
       "    </tr>\n",
       "  </thead>\n",
       "  <tbody>\n",
       "    <tr>\n",
       "      <th>0</th>\n",
       "      <td>155</td>\n",
       "      <td>The Dark Knight</td>\n",
       "      <td>Batman raises the stakes in his war on crime. ...</td>\n",
       "      <td>[{\"id\": 18, \"name\": \"Drama\"}, {\"id\": 28, \"name...</td>\n",
       "      <td>[{\"id\": 849, \"name\": \"dc comics\"}, {\"id\": 853,...</td>\n",
       "      <td>[{\"cast_id\": 35, \"character\": \"Bruce Wayne\", \"...</td>\n",
       "      <td>[{\"credit_id\": \"55a0eb4a925141296b0010f8\", \"de...</td>\n",
       "    </tr>\n",
       "    <tr>\n",
       "      <th>1</th>\n",
       "      <td>150540</td>\n",
       "      <td>Inside Out</td>\n",
       "      <td>Growing up can be a bumpy road, and it's no ex...</td>\n",
       "      <td>[{\"id\": 18, \"name\": \"Drama\"}, {\"id\": 35, \"name...</td>\n",
       "      <td>[{\"id\": 1566, \"name\": \"dream\"}, {\"id\": 6513, \"...</td>\n",
       "      <td>[{\"cast_id\": 4, \"character\": \"Joy (voice)\", \"c...</td>\n",
       "      <td>[{\"credit_id\": \"56098866c3a368681000003a\", \"de...</td>\n",
       "    </tr>\n",
       "    <tr>\n",
       "      <th>2</th>\n",
       "      <td>157336</td>\n",
       "      <td>Interstellar</td>\n",
       "      <td>Interstellar chronicles the adventures of a gr...</td>\n",
       "      <td>[{\"id\": 12, \"name\": \"Adventure\"}, {\"id\": 18, \"...</td>\n",
       "      <td>[{\"id\": 83, \"name\": \"saving the world\"}, {\"id\"...</td>\n",
       "      <td>[{\"cast_id\": 9, \"character\": \"Joseph Cooper\", ...</td>\n",
       "      <td>[{\"credit_id\": \"52fe4bbf9251416c910e4801\", \"de...</td>\n",
       "    </tr>\n",
       "    <tr>\n",
       "      <th>3</th>\n",
       "      <td>27205</td>\n",
       "      <td>Inception</td>\n",
       "      <td>Cobb, a skilled thief who commits corporate es...</td>\n",
       "      <td>[{\"id\": 28, \"name\": \"Action\"}, {\"id\": 53, \"nam...</td>\n",
       "      <td>[{\"id\": 1014, \"name\": \"loss of lover\"}, {\"id\":...</td>\n",
       "      <td>[{\"cast_id\": 1, \"character\": \"Dom Cobb\", \"cred...</td>\n",
       "      <td>[{\"credit_id\": \"56e8462cc3a368408400354c\", \"de...</td>\n",
       "    </tr>\n",
       "    <tr>\n",
       "      <th>4</th>\n",
       "      <td>120</td>\n",
       "      <td>The Lord of the Rings: The Fellowship of the Ring</td>\n",
       "      <td>Young hobbit Frodo Baggins, after inheriting a...</td>\n",
       "      <td>[{\"id\": 12, \"name\": \"Adventure\"}, {\"id\": 14, \"...</td>\n",
       "      <td>[{\"id\": 603, \"name\": \"elves\"}, {\"id\": 604, \"na...</td>\n",
       "      <td>[{\"cast_id\": 28, \"character\": \"Frodo Baggins\",...</td>\n",
       "      <td>[{\"credit_id\": \"52fe421ac3a36847f80043fb\", \"de...</td>\n",
       "    </tr>\n",
       "  </tbody>\n",
       "</table>\n",
       "</div>"
      ],
      "text/plain": [
       "  movie_id                                              title  \\\n",
       "0      155                                    The Dark Knight   \n",
       "1   150540                                         Inside Out   \n",
       "2   157336                                       Interstellar   \n",
       "3    27205                                          Inception   \n",
       "4      120  The Lord of the Rings: The Fellowship of the Ring   \n",
       "\n",
       "                                            overview  \\\n",
       "0  Batman raises the stakes in his war on crime. ...   \n",
       "1  Growing up can be a bumpy road, and it's no ex...   \n",
       "2  Interstellar chronicles the adventures of a gr...   \n",
       "3  Cobb, a skilled thief who commits corporate es...   \n",
       "4  Young hobbit Frodo Baggins, after inheriting a...   \n",
       "\n",
       "                                              genres  \\\n",
       "0  [{\"id\": 18, \"name\": \"Drama\"}, {\"id\": 28, \"name...   \n",
       "1  [{\"id\": 18, \"name\": \"Drama\"}, {\"id\": 35, \"name...   \n",
       "2  [{\"id\": 12, \"name\": \"Adventure\"}, {\"id\": 18, \"...   \n",
       "3  [{\"id\": 28, \"name\": \"Action\"}, {\"id\": 53, \"nam...   \n",
       "4  [{\"id\": 12, \"name\": \"Adventure\"}, {\"id\": 14, \"...   \n",
       "\n",
       "                                            keywords  \\\n",
       "0  [{\"id\": 849, \"name\": \"dc comics\"}, {\"id\": 853,...   \n",
       "1  [{\"id\": 1566, \"name\": \"dream\"}, {\"id\": 6513, \"...   \n",
       "2  [{\"id\": 83, \"name\": \"saving the world\"}, {\"id\"...   \n",
       "3  [{\"id\": 1014, \"name\": \"loss of lover\"}, {\"id\":...   \n",
       "4  [{\"id\": 603, \"name\": \"elves\"}, {\"id\": 604, \"na...   \n",
       "\n",
       "                                                cast  \\\n",
       "0  [{\"cast_id\": 35, \"character\": \"Bruce Wayne\", \"...   \n",
       "1  [{\"cast_id\": 4, \"character\": \"Joy (voice)\", \"c...   \n",
       "2  [{\"cast_id\": 9, \"character\": \"Joseph Cooper\", ...   \n",
       "3  [{\"cast_id\": 1, \"character\": \"Dom Cobb\", \"cred...   \n",
       "4  [{\"cast_id\": 28, \"character\": \"Frodo Baggins\",...   \n",
       "\n",
       "                                                crew  \n",
       "0  [{\"credit_id\": \"55a0eb4a925141296b0010f8\", \"de...  \n",
       "1  [{\"credit_id\": \"56098866c3a368681000003a\", \"de...  \n",
       "2  [{\"credit_id\": \"52fe4bbf9251416c910e4801\", \"de...  \n",
       "3  [{\"credit_id\": \"56e8462cc3a368408400354c\", \"de...  \n",
       "4  [{\"credit_id\": \"52fe421ac3a36847f80043fb\", \"de...  "
      ]
     },
     "execution_count": 150,
     "metadata": {},
     "output_type": "execute_result"
    }
   ],
   "source": [
    "movies.head()"
   ]
  },
  {
   "cell_type": "code",
   "execution_count": 151,
   "metadata": {},
   "outputs": [
    {
     "name": "stdout",
     "output_type": "stream",
     "text": [
      "<class 'pandas.core.frame.DataFrame'>\n",
      "RangeIndex: 85 entries, 0 to 84\n",
      "Data columns (total 7 columns):\n",
      " #   Column    Non-Null Count  Dtype \n",
      "---  ------    --------------  ----- \n",
      " 0   movie_id  85 non-null     object\n",
      " 1   title     85 non-null     object\n",
      " 2   overview  85 non-null     object\n",
      " 3   genres    85 non-null     object\n",
      " 4   keywords  85 non-null     object\n",
      " 5   cast      85 non-null     object\n",
      " 6   crew      85 non-null     object\n",
      "dtypes: object(7)\n",
      "memory usage: 4.8+ KB\n"
     ]
    }
   ],
   "source": [
    "movies.info()"
   ]
  },
  {
   "cell_type": "code",
   "execution_count": 152,
   "metadata": {},
   "outputs": [
    {
     "data": {
      "text/plain": [
       "movie_id    0\n",
       "title       0\n",
       "overview    0\n",
       "genres      0\n",
       "keywords    0\n",
       "cast        0\n",
       "crew        0\n",
       "dtype: int64"
      ]
     },
     "execution_count": 152,
     "metadata": {},
     "output_type": "execute_result"
    }
   ],
   "source": [
    "#chacking the missing data\n",
    "movies.isnull().sum()"
   ]
  },
  {
   "cell_type": "code",
   "execution_count": 153,
   "metadata": {},
   "outputs": [],
   "source": [
    "#removing the missing data\n",
    "movies.dropna(inplace=True)"
   ]
  },
  {
   "cell_type": "markdown",
   "metadata": {},
   "source": [
    "# Preprocessing and formating some columns\n"
   ]
  },
  {
   "cell_type": "code",
   "execution_count": 154,
   "metadata": {},
   "outputs": [
    {
     "data": {
      "text/plain": [
       "'[{\"id\": 18, \"name\": \"Drama\"}, {\"id\": 28, \"name\": \"Action\"}, {\"id\": 80, \"name\": \"Crime\"}, {\"id\": 53, \"name\": \"Thriller\"}]'"
      ]
     },
     "execution_count": 154,
     "metadata": {},
     "output_type": "execute_result"
    }
   ],
   "source": [
    "#genres col \n",
    "movies.iloc[0].genres"
   ]
  },
  {
   "cell_type": "markdown",
   "metadata": {},
   "source": [
    "this format is seems to be wrong ,we can fixed it -----we convert the '[{\"id\": 28, \"name\": \"Action\"}, {\"id\": 12, \"name\": \"Adventure\"}, {\"id\": 14, \"name\": \"Fantasy\"}, {\"id\": 878, \"name\": \"Science Fiction\"}]' format into the [\"Action\",\"Adventure\",\"Fantasy\",\"Science Fiction\"] format....\n",
    "\n"
   ]
  },
  {
   "cell_type": "code",
   "execution_count": 155,
   "metadata": {},
   "outputs": [],
   "source": [
    "def convert(obj):\n",
    "    l=[]\n",
    "    for i in ast.literal_eval(obj):\n",
    "        l.append(i[\"name\"])\n",
    "    return l     "
   ]
  },
  {
   "cell_type": "code",
   "execution_count": 156,
   "metadata": {},
   "outputs": [],
   "source": [
    "movies[\"genres\"]=movies[\"genres\"].apply(convert)"
   ]
  },
  {
   "cell_type": "code",
   "execution_count": 157,
   "metadata": {},
   "outputs": [
    {
     "data": {
      "text/plain": [
       "0                     [Drama, Action, Crime, Thriller]\n",
       "1                   [Drama, Comedy, Animation, Family]\n",
       "2                  [Adventure, Drama, Science Fiction]\n",
       "3    [Action, Thriller, Science Fiction, Mystery, A...\n",
       "4                         [Adventure, Fantasy, Action]\n",
       "Name: genres, dtype: object"
      ]
     },
     "execution_count": 157,
     "metadata": {},
     "output_type": "execute_result"
    }
   ],
   "source": [
    "movies[\"genres\"].head()"
   ]
  },
  {
   "cell_type": "code",
   "execution_count": 158,
   "metadata": {},
   "outputs": [
    {
     "data": {
      "text/plain": [
       "0    [{\"id\": 849, \"name\": \"dc comics\"}, {\"id\": 853,...\n",
       "1    [{\"id\": 1566, \"name\": \"dream\"}, {\"id\": 6513, \"...\n",
       "2    [{\"id\": 83, \"name\": \"saving the world\"}, {\"id\"...\n",
       "3    [{\"id\": 1014, \"name\": \"loss of lover\"}, {\"id\":...\n",
       "4    [{\"id\": 603, \"name\": \"elves\"}, {\"id\": 604, \"na...\n",
       "Name: keywords, dtype: object"
      ]
     },
     "execution_count": 158,
     "metadata": {},
     "output_type": "execute_result"
    }
   ],
   "source": [
    "#keyword columns \n",
    "movies[\"keywords\"].head()"
   ]
  },
  {
   "cell_type": "code",
   "execution_count": 159,
   "metadata": {},
   "outputs": [
    {
     "data": {
      "text/plain": [
       "0    [dc comics, crime fighter, secret identity, sc...\n",
       "1    [dream, cartoon, imaginary friend, animation, ...\n",
       "2    [saving the world, artificial intelligence, fa...\n",
       "3    [loss of lover, dream, kidnapping, sleep, subc...\n",
       "4    [elves, dwarves, orcs, middle-earth (tolkien),...\n",
       "Name: keywords, dtype: object"
      ]
     },
     "execution_count": 159,
     "metadata": {},
     "output_type": "execute_result"
    }
   ],
   "source": [
    "#convert into correct format\n",
    "movies[\"keywords\"]=movies[\"keywords\"].apply(convert)\n",
    "movies[\"keywords\"].head()"
   ]
  },
  {
   "cell_type": "code",
   "execution_count": 160,
   "metadata": {},
   "outputs": [
    {
     "data": {
      "text/plain": [
       "'[{\"cast_id\": 35, \"character\": \"Bruce Wayne\", \"credit_id\": \"52fe4220c3a36847f8005d17\", \"gender\": 2, \"id\": 3894, \"name\": \"Christian Bale\", \"order\": 0}, {\"cast_id\": 3, \"character\": \"Joker\", \"credit_id\": \"52fe421fc3a36847f8005cbf\", \"gender\": 2, \"id\": 1810, \"name\": \"Heath Ledger\", \"order\": 1}, {\"cast_id\": 15, \"character\": \"Harvey Dent\", \"credit_id\": \"52fe4220c3a36847f8005cf1\", \"gender\": 2, \"id\": 6383, \"name\": \"Aaron Eckhart\", \"order\": 2}, {\"cast_id\": 17, \"character\": \"Alfred\", \"credit_id\": \"52fe4220c3a36847f8005cf9\", \"gender\": 2, \"id\": 3895, \"name\": \"Michael Caine\", \"order\": 3}, {\"cast_id\": 8, \"character\": \"Rachel\", \"credit_id\": \"52fe421fc3a36847f8005cd5\", \"gender\": 1, \"id\": 1579, \"name\": \"Maggie Gyllenhaal\", \"order\": 4}, {\"cast_id\": 16, \"character\": \"Gordon\", \"credit_id\": \"52fe4220c3a36847f8005cf5\", \"gender\": 2, \"id\": 64, \"name\": \"Gary Oldman\", \"order\": 5}, {\"cast_id\": 34, \"character\": \"Lucius Fox\", \"credit_id\": \"52fe4220c3a36847f8005d13\", \"gender\": 2, \"id\": 192, \"name\": \"Morgan Freeman\", \"order\": 6}, {\"cast_id\": 258, \"character\": \"Ramirez\", \"credit_id\": \"55dc9083c3a3686572000193\", \"gender\": 1, \"id\": 53651, \"name\": \"Monique Gabriela Curnen\", \"order\": 7}, {\"cast_id\": 228, \"character\": \"Wuertz\", \"credit_id\": \"52fe4220c3a36847f8005d65\", \"gender\": 2, \"id\": 57597, \"name\": \"Ron Dean\", \"order\": 8}, {\"cast_id\": 20, \"character\": \"Scarecrow\", \"credit_id\": \"52fe4220c3a36847f8005cfd\", \"gender\": 2, \"id\": 2037, \"name\": \"Cillian Murphy\", \"order\": 9}, {\"cast_id\": 227, \"character\": \"Lau\", \"credit_id\": \"52fe4220c3a36847f8005d61\", \"gender\": 2, \"id\": 101015, \"name\": \"Chin Han\", \"order\": 10}, {\"cast_id\": 225, \"character\": \"Mayor\", \"credit_id\": \"52fe4220c3a36847f8005d59\", \"gender\": 2, \"id\": 21316, \"name\": \"Nestor Carbonell\", \"order\": 11}, {\"cast_id\": 229, \"character\": \"Maroni\", \"credit_id\": \"52fe4220c3a36847f8005d69\", \"gender\": 2, \"id\": 21315, \"name\": \"Eric Roberts\", \"order\": 12}, {\"cast_id\": 232, \"character\": \"Chechen\", \"credit_id\": \"52fe4220c3a36847f8005d71\", \"gender\": 2, \"id\": 13939, \"name\": \"Ritchie Coster\", \"order\": 13}, {\"cast_id\": 224, \"character\": \"Engel\", \"credit_id\": \"52fe4220c3a36847f8005d55\", \"gender\": 2, \"id\": 1904, \"name\": \"Anthony Michael Hall\", \"order\": 14}, {\"cast_id\": 233, \"character\": \"Stephens\", \"credit_id\": \"52fe4220c3a36847f8005d75\", \"gender\": 2, \"id\": 87957, \"name\": \"Keith Szarabajka\", \"order\": 15}, {\"cast_id\": 234, \"character\": \"Loeb\", \"credit_id\": \"52fe4220c3a36847f8005d79\", \"gender\": 2, \"id\": 128386, \"name\": \"Colin McFarlane\", \"order\": 16}, {\"cast_id\": 260, \"character\": \"Reese\", \"credit_id\": \"560c2501c3a368681f005b6e\", \"gender\": 2, \"id\": 34544, \"name\": \"Joshua Harto\", \"order\": 17}, {\"cast_id\": 230, \"character\": \"Barbara Gordon\", \"credit_id\": \"52fe4220c3a36847f8005d6d\", \"gender\": 0, \"id\": 58692, \"name\": \"Melinda McGraw\", \"order\": 18}, {\"cast_id\": 261, \"character\": \"James Gordon\", \"credit_id\": \"560c253492514171910064b3\", \"gender\": 2, \"id\": 18052, \"name\": \"Nathan Gamble\", \"order\": 19}, {\"cast_id\": 262, \"character\": \"Rossi\", \"credit_id\": \"560c2548925141501900012f\", \"gender\": 2, \"id\": 1052875, \"name\": \"Michael Vieau\", \"order\": 20}, {\"cast_id\": 237, \"character\": \"Dopey\", \"credit_id\": \"53aa63de0e0a2646d80030b5\", \"gender\": 0, \"id\": 1196130, \"name\": \"Michael Stoyanov\", \"order\": 21}, {\"cast_id\": 235, \"character\": \"Happy\", \"credit_id\": \"53aa62f00e0a2646c2001238\", \"gender\": 0, \"id\": 1334139, \"name\": \"William Smillie\", \"order\": 22}, {\"cast_id\": 241, \"character\": \"Gambol\", \"credit_id\": \"555b4fc29251415878000a6b\", \"gender\": 2, \"id\": 64856, \"name\": \"Michael Jai White\", \"order\": 23}, {\"cast_id\": 236, \"character\": \"Grumpy\", \"credit_id\": \"53aa63a00e0a2646d20011d3\", \"gender\": 2, \"id\": 16477, \"name\": \"Danny Goldring\", \"order\": 24}, {\"cast_id\": 385, \"character\": \"Chuckles\", \"credit_id\": \"5993cadf925141541200cf42\", \"gender\": 0, \"id\": 1208967, \"name\": \"Matthew O\\'Neill\", \"order\": 25}, {\"cast_id\": 226, \"character\": \"Bank Manager\", \"credit_id\": \"52fe4220c3a36847f8005d5d\", \"gender\": 2, \"id\": 886, \"name\": \"William Fichtner\", \"order\": 26}, {\"cast_id\": 263, \"character\": \"Drug Dealer\", \"credit_id\": \"560c25b3c3a368681f005b86\", \"gender\": 0, \"id\": 1056090, \"name\": \"Olumiji Olawumi\", \"order\": 27}, {\"cast_id\": 386, \"character\": \"Drug Buyer\", \"credit_id\": \"5993cb54c3a3687eff00c2ae\", \"gender\": 0, \"id\": 1870607, \"name\": \"Greg Beam\", \"order\": 28}, {\"cast_id\": 387, \"character\": \"Junkie\", \"credit_id\": \"5993cb67c3a3687eff00c2d3\", \"gender\": 0, \"id\": 1870608, \"name\": \"Erik Hellman\", \"order\": 29}, {\"cast_id\": 238, \"character\": \"Natascha\", \"credit_id\": \"53aa646e0e0a2646d20011ec\", \"gender\": 1, \"id\": 101014, \"name\": \"Beatrice Rosen\", \"order\": 30}, {\"cast_id\": 264, \"character\": \"Crime Boss\", \"credit_id\": \"560c2614c3a368681400691d\", \"gender\": 2, \"id\": 24595, \"name\": \"Vincenzo Nicoli\", \"order\": 31}, {\"cast_id\": 265, \"character\": \"LSI VP\", \"credit_id\": \"560c262bc3a368680b006225\", \"gender\": 0, \"id\": 20372, \"name\": \"Edison Chen\", \"order\": 32}, {\"cast_id\": 388, \"character\": \"Judge Surrillo\", \"credit_id\": \"5993cbe7c3a3687f4600cbbb\", \"gender\": 0, \"id\": 1522073, \"name\": \"Nydia Rodriguez Terracina\", \"order\": 33}, {\"cast_id\": 389, \"character\": \"Brian\", \"credit_id\": \"5993cbf8c3a3687eda00c910\", \"gender\": 0, \"id\": 1870609, \"name\": \"Andy Luther\", \"order\": 34}, {\"cast_id\": 390, \"character\": \"Man No. 1\", \"credit_id\": \"5993cc18c3a3687f4600cc10\", \"gender\": 0, \"id\": 1870610, \"name\": \"James Farruggio\", \"order\": 35}, {\"cast_id\": 391, \"character\": \"Man No. 2\", \"credit_id\": \"5993cc2cc3a3687f9e00dc32\", \"gender\": 0, \"id\": 1840452, \"name\": \"Tom McElroy\", \"order\": 36}, {\"cast_id\": 266, \"character\": \"Assistant DA\", \"credit_id\": \"560c26efc3a3686814006948\", \"gender\": 0, \"id\": 1226696, \"name\": \"Will Zahrn\", \"order\": 37}, {\"cast_id\": 392, \"character\": \"Thug at Party\", \"credit_id\": \"5993ccd7c3a3687eda00ca6e\", \"gender\": 0, \"id\": 1870611, \"name\": \"James Fierro\", \"order\": 38}, {\"cast_id\": 267, \"character\": \"Gentleman at Party\", \"credit_id\": \"560c2766c3a3686810006628\", \"gender\": 2, \"id\": 853194, \"name\": \"Patrick Leahy\", \"order\": 39}, {\"cast_id\": 393, \"character\": \"Male Guest\", \"credit_id\": \"5993cd04c3a3687f8400ceba\", \"gender\": 0, \"id\": 1526574, \"name\": \"Sam Derence\", \"order\": 40}, {\"cast_id\": 394, \"character\": \"Female Guest\", \"credit_id\": \"5993cd5ac3a3687ec400df11\", \"gender\": 0, \"id\": 1870612, \"name\": \"Jennifer Knox\", \"order\": 41}, {\"cast_id\": 268, \"character\": \"Judge Freel\", \"credit_id\": \"560c27bdc3a368681f005bbb\", \"gender\": 0, \"id\": 1424043, \"name\": \"Patrick Clear\", \"order\": 42}, {\"cast_id\": 269, \"character\": \"Maroni\\'s Mistress\", \"credit_id\": \"560c27d09251417e9e0045d4\", \"gender\": 1, \"id\": 1220201, \"name\": \"Sarah Jayne Dunn\", \"order\": 43}, {\"cast_id\": 270, \"character\": \"Gambol\\'s Bodyguard (as Chucky Venn)\", \"credit_id\": \"560c27e7c3a368680e005fec\", \"gender\": 0, \"id\": 147895, \"name\": \"Charles Venn\", \"order\": 44}, {\"cast_id\": 271, \"character\": \"Gambol\\'s Bodyguard (as Winston Ellis)\", \"credit_id\": \"560c284f925141719c006141\", \"gender\": 0, \"id\": 1195758, \"name\": \"Winston G. Ellis\", \"order\": 45}, {\"cast_id\": 223, \"character\": \"Joker\\'s Thug\", \"credit_id\": \"52fe4220c3a36847f8005d51\", \"gender\": 2, \"id\": 83854, \"name\": \"David Dastmalchian\", \"order\": 46}, {\"cast_id\": 395, \"character\": \"Reporter\", \"credit_id\": \"5993ce0a925141542b00d59b\", \"gender\": 0, \"id\": 1870613, \"name\": \"Sophia Hinshelwood\", \"order\": 47}, {\"cast_id\": 272, \"character\": \"Heckler\", \"credit_id\": \"560c28dbc3a3686814006985\", \"gender\": 0, \"id\": 1313093, \"name\": \"Keith Kupferer\", \"order\": 48}, {\"cast_id\": 396, \"character\": \"Cop Heckler\", \"credit_id\": \"5993ce2fc3a3687ec400e0b1\", \"gender\": 0, \"id\": 1678566, \"name\": \"Joseph Luis Caballero\", \"order\": 49}, {\"cast_id\": 273, \"character\": \"Acting Commissioner\", \"credit_id\": \"560c2902c3a3686824005e29\", \"gender\": 2, \"id\": 176227, \"name\": \"Richard Dillane\", \"order\": 50}, {\"cast_id\": 397, \"character\": \"Officer at Intersection\", \"credit_id\": \"5993ce98c3a3687ec400e177\", \"gender\": 0, \"id\": 1870614, \"name\": \"Daryl Satcher\", \"order\": 51}, {\"cast_id\": 398, \"character\": \"Convoy Leader\", \"credit_id\": \"5993ceb5c3a3687f4600d06e\", \"gender\": 0, \"id\": 1870615, \"name\": \"Chris Petschler\", \"order\": 52}, {\"cast_id\": 399, \"character\": \"Fat Thug\", \"credit_id\": \"5993cec3925141543300d25e\", \"gender\": 0, \"id\": 1870616, \"name\": \"Aidan Feore\", \"order\": 53}, {\"cast_id\": 274, \"character\": \"Murphy\", \"credit_id\": \"560c2a12c3a368680b00628b\", \"gender\": 0, \"id\": 1128854, \"name\": \"Philip Bulcock\", \"order\": 54}, {\"cast_id\": 275, \"character\": \"Cop with Fat Thug\", \"credit_id\": \"560c2a3fc3a3686824005e4c\", \"gender\": 2, \"id\": 29617, \"name\": \"Paul Birchard\", \"order\": 55}, {\"cast_id\": 400, \"character\": \"Medic\", \"credit_id\": \"5993cf53c3a3687eff00c8f5\", \"gender\": 0, \"id\": 1781739, \"name\": \"Walter Lewis\", \"order\": 56}, {\"cast_id\": 276, \"character\": \"Cop at 250 52nd St.\", \"credit_id\": \"560c2a8c92514171a3006640\", \"gender\": 2, \"id\": 26669, \"name\": \"Vincent Riotta\", \"order\": 57}, {\"cast_id\": 401, \"character\": \"Nurse\", \"credit_id\": \"5993cf78c3a3687ec400e300\", \"gender\": 0, \"id\": 1631707, \"name\": \"Nancy Crane\", \"order\": 58}, {\"cast_id\": 277, \"character\": \"Polk\", \"credit_id\": \"560c2ad6c3a368681f005c14\", \"gender\": 2, \"id\": 143328, \"name\": \"K. Todd Freeman\", \"order\": 59}, {\"cast_id\": 278, \"character\": \"Berg\", \"credit_id\": \"560c2b4dc3a3686824005e6e\", \"gender\": 0, \"id\": 1464854, \"name\": \"Matt Shallenberger\", \"order\": 60}, {\"cast_id\": 404, \"character\": \"Cop at Hospital\", \"credit_id\": \"5993d0a4925141543300d56e\", \"gender\": 0, \"id\": 1870623, \"name\": \"Michael Andrew Gorman\", \"order\": 61}, {\"cast_id\": 402, \"character\": \"Bartender\", \"credit_id\": \"5993d02bc3a3687f4600d2b8\", \"gender\": 0, \"id\": 1870620, \"name\": \"Lanny Lutz\", \"order\": 62}, {\"cast_id\": 403, \"character\": \"Civilian\", \"credit_id\": \"5993d03e925141542300cb8a\", \"gender\": 2, \"id\": 1624910, \"name\": \"Peter DeFaria\", \"order\": 63}, {\"cast_id\": 279, \"character\": \"First Mate\", \"credit_id\": \"560c2ba4c3a36868100066b9\", \"gender\": 2, \"id\": 78047, \"name\": \"Matt Rippy\", \"order\": 64}, {\"cast_id\": 280, \"character\": \"Prison Ferry Pilot\", \"credit_id\": \"560c2bc6c3a368680b0062b1\", \"gender\": 2, \"id\": 47525, \"name\": \"Andrew Bicknell\", \"order\": 65}, {\"cast_id\": 281, \"character\": \"Guard Commander\", \"credit_id\": \"560c2be1c3a36868100066bf\", \"gender\": 0, \"id\": 1238461, \"name\": \"Ariyon Bakare\", \"order\": 66}, {\"cast_id\": 282, \"character\": \"Businessman\", \"credit_id\": \"560c2bffc3a368680b0062ba\", \"gender\": 0, \"id\": 1232399, \"name\": \"Doug Ballard\", \"order\": 67}, {\"cast_id\": 405, \"character\": \"Mother\", \"credit_id\": \"5993d0c3925141542b00d992\", \"gender\": 0, \"id\": 1661772, \"name\": \"Helene Wilson\", \"order\": 68}, {\"cast_id\": 283, \"character\": \"Passenger\", \"credit_id\": \"560c2c85c3a3686824005e90\", \"gender\": 0, \"id\": 122345, \"name\": \"Tommy Campbell\", \"order\": 69}, {\"cast_id\": 284, \"character\": \"Passenger\", \"credit_id\": \"560c2ca5c3a36868140069e9\", \"gender\": 0, \"id\": 1215332, \"name\": \"Craig Heaney\", \"order\": 70}, {\"cast_id\": 285, \"character\": \"Passenger\", \"credit_id\": \"560c2d12c3a36868140069fa\", \"gender\": 0, \"id\": 209990, \"name\": \"Lorna Gayle\", \"order\": 71}, {\"cast_id\": 286, \"character\": \"Passenger\", \"credit_id\": \"560c2d31925141719c0061d4\", \"gender\": 1, \"id\": 139946, \"name\": \"Lisa McAllister\", \"order\": 72}, {\"cast_id\": 287, \"character\": \"Passenger\", \"credit_id\": \"560c2d44925141157f0005be\", \"gender\": 0, \"id\": 1070855, \"name\": \"Peter Brooke\", \"order\": 73}, {\"cast_id\": 406, \"character\": \"SWAT Sniper\", \"credit_id\": \"5993d0f1c3a3687ec400e510\", \"gender\": 2, \"id\": 1674439, \"name\": \"Joshua Rollins\", \"order\": 74}, {\"cast_id\": 407, \"character\": \"SWAT Leader\", \"credit_id\": \"5993d102925141540e00cede\", \"gender\": 0, \"id\": 1870625, \"name\": \"Dale Rivera\", \"order\": 75}, {\"cast_id\": 239, \"character\": \"Prisoner on Ferry\", \"credit_id\": \"53d7244c0e0a260337000c0c\", \"gender\": 2, \"id\": 141770, \"name\": \"Matthew Leitch\", \"order\": 76}, {\"cast_id\": 288, \"character\": \"Tattooed Prisoner\", \"credit_id\": \"560c2da992514171a0006010\", \"gender\": 2, \"id\": 8396, \"name\": \"Tom Lister Jr.\", \"order\": 77}, {\"cast_id\": 289, \"character\": \"Reporter #3\", \"credit_id\": \"560c2dd5925141719c0061ee\", \"gender\": 0, \"id\": 1394354, \"name\": \"Thomas Gaitsch\", \"order\": 78}, {\"cast_id\": 290, \"character\": \"Evans\", \"credit_id\": \"560c2e12c3a3686814006a1d\", \"gender\": 2, \"id\": 29616, \"name\": \"William Armstrong\", \"order\": 79}, {\"cast_id\": 408, \"character\": \"Honor Guard Man\", \"credit_id\": \"5993d1ed925141540e00d010\", \"gender\": 0, \"id\": 1870627, \"name\": \"Adam Kalesperis\", \"order\": 80}, {\"cast_id\": 291, \"character\": \"Uniform Cop\", \"credit_id\": \"560c2e4c92514171a30066b0\", \"gender\": 2, \"id\": 170230, \"name\": \"Tristan Tait\", \"order\": 81}, {\"cast_id\": 292, \"character\": \"Bounty Hunter\", \"credit_id\": \"560c2e6f92514171a0006035\", \"gender\": 2, \"id\": 75076, \"name\": \"Bronson Webb\", \"order\": 82}, {\"cast_id\": 293, \"character\": \"Bounty Hunter\", \"credit_id\": \"560c2e8692514171910065cd\", \"gender\": 2, \"id\": 971049, \"name\": \"David Ajala\", \"order\": 83}, {\"cast_id\": 409, \"character\": \"Fox\\'s Secretary\", \"credit_id\": \"5993d224925141542b00db48\", \"gender\": 0, \"id\": 1870629, \"name\": \"Gertrude Kyles\", \"order\": 84}, {\"cast_id\": 294, \"character\": \"Passenger Ferry Pilot\", \"credit_id\": \"560c2eabc3a368680e0060c1\", \"gender\": 2, \"id\": 119414, \"name\": \"Jonathan Ryland\", \"order\": 85}, {\"cast_id\": 410, \"character\": \"Guardsman\", \"credit_id\": \"5993d2b5c3a3687ec400e780\", \"gender\": 0, \"id\": 1870631, \"name\": \"James Scales\", \"order\": 86}, {\"cast_id\": 411, \"character\": \"Warden\", \"credit_id\": \"5993d2c8c3a3687f6200d2e2\", \"gender\": 0, \"id\": 1655526, \"name\": \"Nigel Carrington\", \"order\": 87}, {\"cast_id\": 295, \"character\": \"Corrections Officer\", \"credit_id\": \"560c2ef0925141501900025e\", \"gender\": 0, \"id\": 95716, \"name\": \"Ian Pirie\", \"order\": 88}, {\"cast_id\": 296, \"character\": \"Prisoner\", \"credit_id\": \"560c2f0dc3a368681900620c\", \"gender\": 0, \"id\": 1122545, \"name\": \"Lateef Lovejoy\", \"order\": 89}, {\"cast_id\": 297, \"character\": \"Prisoner\", \"credit_id\": \"560c2f2a9251417196005dc4\", \"gender\": 0, \"id\": 578699, \"name\": \"Grahame Edwards\", \"order\": 90}, {\"cast_id\": 298, \"character\": \"Prisoner\", \"credit_id\": \"560c2f4492514171a30066d6\", \"gender\": 0, \"id\": 126316, \"name\": \"Roger Monk\", \"order\": 91}, {\"cast_id\": 299, \"character\": \"Prisoner\", \"credit_id\": \"560c2f5b925141157f0005fb\", \"gender\": 2, \"id\": 1132153, \"name\": \"Ronan Summers\", \"order\": 92}, {\"cast_id\": 412, \"character\": \"Hong Kong Detective\", \"credit_id\": \"5993d34892514153ff00dff5\", \"gender\": 2, \"id\": 1599260, \"name\": \"Wai Wong\", \"order\": 93}, {\"cast_id\": 413, \"character\": \"Honor Guard Leader\", \"credit_id\": \"5993d35b92514153ff00e033\", \"gender\": 0, \"id\": 1870636, \"name\": \"Michael Corey Foster\", \"order\": 94}, {\"cast_id\": 414, \"character\": \"Gordon\\'s Daughter\", \"credit_id\": \"5993d36892514153ff00e073\", \"gender\": 0, \"id\": 1870637, \"name\": \"Hannah Gunn\", \"order\": 95}, {\"cast_id\": 415, \"character\": \"Armored Car SWAT\", \"credit_id\": \"5993d375c3a3687f9e00e7e3\", \"gender\": 0, \"id\": 1870638, \"name\": \"Brandon Lambdin\", \"order\": 96}, {\"cast_id\": 300, \"character\": \"Waiter (uncredited)\", \"credit_id\": \"560c3c94925141719c006489\", \"gender\": 0, \"id\": 1161711, \"name\": \"Jon Lee Brody\", \"order\": 97}, {\"cast_id\": 301, \"character\": \"Bank Patron (uncredited)\", \"credit_id\": \"560c3cc2c3a36868170066c2\", \"gender\": 0, \"id\": 580566, \"name\": \"Debbi Burns\", \"order\": 98}, {\"cast_id\": 302, \"character\": \"Party Guest (uncredited)\", \"credit_id\": \"560c3ce49251417196006004\", \"gender\": 0, \"id\": 1128275, \"name\": \"Maritza Cabrera\", \"order\": 99}, {\"cast_id\": 303, \"character\": \"Party Guest with Glass (uncredited)\", \"credit_id\": \"560c3d0892514171a3006975\", \"gender\": 0, \"id\": 1185594, \"name\": \"Shirin Caiola\", \"order\": 100}, {\"cast_id\": 304, \"character\": \"Party Guest (uncredited)\", \"credit_id\": \"560c3d3dc3a368680e00635a\", \"gender\": 0, \"id\": 1197335, \"name\": \"Laura Chernicky\", \"order\": 101}, {\"cast_id\": 357, \"character\": \"Lau Henchman (uncredited)\", \"credit_id\": \"567b1eb19251417de3000a3c\", \"gender\": 0, \"id\": 1552999, \"name\": \"Henry Milton Chu\", \"order\": 102}, {\"cast_id\": 306, \"character\": \"Paramedic (uncredited)\", \"credit_id\": \"560c3f899251417e9e0049a3\", \"gender\": 1, \"id\": 1192165, \"name\": \"Kelli Clevenger\", \"order\": 103}, {\"cast_id\": 307, \"character\": \"Chechen Gangster (uncredited)\", \"credit_id\": \"560c3fea9251415019000533\", \"gender\": 0, \"id\": 1131169, \"name\": \"Richard Divizio\", \"order\": 104}, {\"cast_id\": 308, \"character\": \"Press Conference Heckler (uncredited)\", \"credit_id\": \"560c4017c3a3686817006783\", \"gender\": 0, \"id\": 580567, \"name\": \"Tony Domino\", \"order\": 105}, {\"cast_id\": 310, \"character\": \"Pedestrian (uncredited)\", \"credit_id\": \"560c40d892514171a3006a6b\", \"gender\": 0, \"id\": 228305, \"name\": \"David Fultz\", \"order\": 106}, {\"cast_id\": 311, \"character\": \"Ferry Passenger (uncredited)\", \"credit_id\": \"560c413c92514171a3006a7a\", \"gender\": 1, \"id\": 1392731, \"name\": \"Natalie Hallam\", \"order\": 107}, {\"cast_id\": 312, \"character\": \"Police Officer (uncredited)\", \"credit_id\": \"560c4185c3a368680b0066da\", \"gender\": 0, \"id\": 593182, \"name\": \"Jordon Hodges\", \"order\": 108}, {\"cast_id\": 313, \"character\": \"Prisoner (uncredited)\", \"credit_id\": \"560c41f092514171a3006ab7\", \"gender\": 0, \"id\": 1086373, \"name\": \"Erron Jay\", \"order\": 109}, {\"cast_id\": 315, \"character\": \"Immigrant Ferry Passenger (uncredited)\", \"credit_id\": \"560c4268925141719c0065d6\", \"gender\": 0, \"id\": 1207205, \"name\": \"Daniel Jefferson\", \"order\": 110}, {\"cast_id\": 316, \"character\": \"Shotgun SWAT (uncredited)\", \"credit_id\": \"560c42dfc3a3686814006e66\", \"gender\": 2, \"id\": 18070, \"name\": \"Nicky Katt\", \"order\": 111}, {\"cast_id\": 317, \"character\": \"Parade Police Officer (uncredited)\", \"credit_id\": \"560c431ec3a3686814006e74\", \"gender\": 0, \"id\": 580560, \"name\": \"Thomas Kosik\", \"order\": 112}, {\"cast_id\": 319, \"character\": \"Maroni\\'s Henchman (uncredited)\", \"credit_id\": \"560c43e8925141719100697f\", \"gender\": 0, \"id\": 505400, \"name\": \"Don Kress\", \"order\": 113}, {\"cast_id\": 320, \"character\": \"Assistant D.A. (uncredited)\", \"credit_id\": \"560c442b925141719600617d\", \"gender\": 0, \"id\": 1058964, \"name\": \"Tim Krueger\", \"order\": 114}, {\"cast_id\": 321, \"character\": \"Police Sgt. Spellman / Gotham Bomb Squad (uncredited)\", \"credit_id\": \"560c448e9251417e9e004aa2\", \"gender\": 0, \"id\": 1261397, \"name\": \"Dan Latham\", \"order\": 115}, {\"cast_id\": 367, \"character\": \"Helicopter SWAT Sniper (uncredited)\", \"credit_id\": \"56e215d9c3a3686ff5000892\", \"gender\": 0, \"id\": 1551776, \"name\": \"Tom McComas\", \"order\": 116}, {\"cast_id\": 322, \"character\": \"Ferry Passenger (uncredited)\", \"credit_id\": \"560c461cc3a3686814006ede\", \"gender\": 2, \"id\": 1111803, \"name\": \"James Mellor\", \"order\": 117}, {\"cast_id\": 323, \"character\": \"Officer (uncredited)\", \"credit_id\": \"560c465c92514171910069e2\", \"gender\": 2, \"id\": 1360008, \"name\": \"Joseph Oliveira\", \"order\": 118}, {\"cast_id\": 324, \"character\": \"Joker\\'s Thug #2 (uncredited)\", \"credit_id\": \"560c46bdc3a36868240062d9\", \"gender\": 0, \"id\": 1426334, \"name\": \"Buster Reeves\", \"order\": 119}, {\"cast_id\": 314, \"character\": \"Prisoner (uncredited)\", \"credit_id\": \"560c4218c3a368680e006473\", \"gender\": 2, \"id\": 30450, \"name\": \"Peter Rnic\", \"order\": 120}, {\"cast_id\": 240, \"character\": \"Party Guest (uncredited)\", \"credit_id\": \"551bf00d9251414af6003148\", \"gender\": 0, \"id\": 1209046, \"name\": \"Amit Shah\", \"order\": 121}, {\"cast_id\": 325, \"character\": \"Angry Hospital Relative (uncredited)\", \"credit_id\": \"560c4757925141157f0009ff\", \"gender\": 0, \"id\": 1058963, \"name\": \"Michelle Shields\", \"order\": 122}, {\"cast_id\": 326, \"character\": \"Evacuee (uncredited)\", \"credit_id\": \"560c4787c3a36868170068e4\", \"gender\": 0, \"id\": 98994, \"name\": \"Sofiya Smirnova\", \"order\": 123}, {\"cast_id\": 327, \"character\": \"High-Ranking Police Official (uncredited)\", \"credit_id\": \"560c47e7c3a3686824006305\", \"gender\": 0, \"id\": 1108073, \"name\": \"Bruce Spielbauer\", \"order\": 124}, {\"cast_id\": 328, \"character\": \"Extra (uncredited)\", \"credit_id\": \"560c4842c3a3686814006f50\", \"gender\": 0, \"id\": 1185600, \"name\": \"Robert Patrick Stern\", \"order\": 125}, {\"cast_id\": 329, \"character\": \"Dept. of Corrections Resident (uncredited)\", \"credit_id\": \"560c48dd92514171a000651f\", \"gender\": 0, \"id\": 1209051, \"name\": \"Robert Stone\", \"order\": 126}, {\"cast_id\": 330, \"character\": \"Detective (uncredited)\", \"credit_id\": \"560c491292514171a0006527\", \"gender\": 0, \"id\": 99223, \"name\": \"Richard Strobel\", \"order\": 127}, {\"cast_id\": 318, \"character\": \"Police Officer (uncredited)\", \"credit_id\": \"560c43a99251417e9e004a7d\", \"gender\": 0, \"id\": 79810, \"name\": \"Tom Townsend\", \"order\": 128}, {\"cast_id\": 331, \"character\": \"Chechen\\'s Bodyguard (uncredited)\", \"credit_id\": \"560c496fc3a368680b006843\", \"gender\": 0, \"id\": 204276, \"name\": \"John Turk\", \"order\": 129}, {\"cast_id\": 332, \"character\": \"Detective (uncredited)\", \"credit_id\": \"560c499ec3a368681f00612c\", \"gender\": 0, \"id\": 1209055, \"name\": \"John Warman\", \"order\": 130}, {\"cast_id\": 305, \"character\": \"Party Guest (uncredited)\", \"credit_id\": \"560c3f18925141157f000862\", \"gender\": 0, \"id\": 1512023, \"name\": \"Erik A. Williams\", \"order\": 131}, {\"cast_id\": 333, \"character\": \"Major Crime Unit Detective (uncredited)\", \"credit_id\": \"560c4a079251417e9e004bb1\", \"gender\": 2, \"id\": 127005, \"name\": \"Chris Wilson\", \"order\": 132}, {\"cast_id\": 334, \"character\": \"Party Staff (uncredited)\", \"credit_id\": \"560c4a57c3a368680e0065ad\", \"gender\": 0, \"id\": 1380656, \"name\": \"Kevin Zaideman\", \"order\": 133}]'"
      ]
     },
     "execution_count": 160,
     "metadata": {},
     "output_type": "execute_result"
    }
   ],
   "source": [
    "#cast columns \n",
    "movies[\"cast\"][0]"
   ]
  },
  {
   "cell_type": "markdown",
   "metadata": {},
   "source": [
    "Here in cast column we only need the first 3 dictionary which contain the main 3 acctrees name and from the 3 dict we only need the name of the acctrees ,lets so it ..\n"
   ]
  },
  {
   "cell_type": "code",
   "execution_count": 161,
   "metadata": {},
   "outputs": [],
   "source": [
    "def convert3(obj):\n",
    "    l=[]\n",
    "    counter=0\n",
    "    for i in ast.literal_eval(obj):\n",
    "        if counter !=3:\n",
    "            l.append(i[\"name\"])\n",
    "            counter+=1\n",
    "        else:\n",
    "            break\n",
    "    return l     "
   ]
  },
  {
   "cell_type": "code",
   "execution_count": 162,
   "metadata": {},
   "outputs": [
    {
     "data": {
      "text/plain": [
       "0         [Christian Bale, Heath Ledger, Aaron Eckhart]\n",
       "1            [Amy Poehler, Phyllis Smith, Richard Kind]\n",
       "2     [Matthew McConaughey, Jessica Chastain, Anne H...\n",
       "3     [Leonardo DiCaprio, Joseph Gordon-Levitt, Elle...\n",
       "4           [Elijah Wood, Ian McKellen, Cate Blanchett]\n",
       "                            ...                        \n",
       "80                                 [Tupac Amaru Shakur]\n",
       "81              [Sid Haig, Richard Riehle, Mel England]\n",
       "82        [Evan Adams, Michelle St. John, Gene Tagaban]\n",
       "83                                                   []\n",
       "84                                                   []\n",
       "Name: cast, Length: 85, dtype: object"
      ]
     },
     "execution_count": 162,
     "metadata": {},
     "output_type": "execute_result"
    }
   ],
   "source": [
    "movies[\"cast\"]=movies[\"cast\"].apply(convert3)\n",
    "movies[\"cast\"]"
   ]
  },
  {
   "cell_type": "code",
   "execution_count": 163,
   "metadata": {},
   "outputs": [
    {
     "data": {
      "text/plain": [
       "'[{\"credit_id\": \"55a0eb4a925141296b0010f8\", \"department\": \"Production\", \"gender\": 1, \"id\": 1113, \"job\": \"Casting\", \"name\": \"Lucinda Syson\"}, {\"credit_id\": \"52fe421fc3a36847f8005ccb\", \"department\": \"Sound\", \"gender\": 2, \"id\": 947, \"job\": \"Original Music Composer\", \"name\": \"Hans Zimmer\"}, {\"credit_id\": \"52fe421fc3a36847f8005ce7\", \"department\": \"Production\", \"gender\": 0, \"id\": 282, \"job\": \"Producer\", \"name\": \"Charles Roven\"}, {\"credit_id\": \"52fe4220c3a36847f8005d03\", \"department\": \"Writing\", \"gender\": 2, \"id\": 525, \"job\": \"Screenplay\", \"name\": \"Christopher Nolan\"}, {\"credit_id\": \"52fe421fc3a36847f8005cbb\", \"department\": \"Directing\", \"gender\": 2, \"id\": 525, \"job\": \"Director\", \"name\": \"Christopher Nolan\"}, {\"credit_id\": \"52fe421fc3a36847f8005ce1\", \"department\": \"Production\", \"gender\": 2, \"id\": 525, \"job\": \"Producer\", \"name\": \"Christopher Nolan\"}, {\"credit_id\": \"52fe421fc3a36847f8005cc5\", \"department\": \"Writing\", \"gender\": 2, \"id\": 527, \"job\": \"Screenplay\", \"name\": \"Jonathan Nolan\"}, {\"credit_id\": \"52fe421fc3a36847f8005ced\", \"department\": \"Production\", \"gender\": 1, \"id\": 556, \"job\": \"Producer\", \"name\": \"Emma Thomas\"}, {\"credit_id\": \"52fe421fc3a36847f8005cd1\", \"department\": \"Camera\", \"gender\": 2, \"id\": 559, \"job\": \"Director of Photography\", \"name\": \"Wally Pfister\"}, {\"credit_id\": \"52fe4220c3a36847f8005d47\", \"department\": \"Production\", \"gender\": 0, \"id\": 561, \"job\": \"Casting\", \"name\": \"John Papsidera\"}, {\"credit_id\": \"52fe421fc3a36847f8005cdb\", \"department\": \"Sound\", \"gender\": 2, \"id\": 1213, \"job\": \"Original Music Composer\", \"name\": \"James Newton Howard\"}, {\"credit_id\": \"52fe4220c3a36847f8005d0f\", \"department\": \"Writing\", \"gender\": 2, \"id\": 3893, \"job\": \"Story\", \"name\": \"David S. Goyer\"}, {\"credit_id\": \"5766ca0d9251416995000624\", \"department\": \"Writing\", \"gender\": 2, \"id\": 3794, \"job\": \"Characters\", \"name\": \"Bob Kane\"}, {\"credit_id\": \"52fe4220c3a36847f8005d35\", \"department\": \"Editing\", \"gender\": 0, \"id\": 3904, \"job\": \"Editor\", \"name\": \"Lee Smith\"}, {\"credit_id\": \"56b632bb9251414a25003d55\", \"department\": \"Production\", \"gender\": 0, \"id\": 20643, \"job\": \"Producer\", \"name\": \"Lorne Orleans\"}, {\"credit_id\": \"52fe4220c3a36847f8005d23\", \"department\": \"Production\", \"gender\": 2, \"id\": 10949, \"job\": \"Executive Producer\", \"name\": \"Michael Uslan\"}, {\"credit_id\": \"52fe4220c3a36847f8005d2f\", \"department\": \"Production\", \"gender\": 2, \"id\": 10951, \"job\": \"Executive Producer\", \"name\": \"Benjamin Melniker\"}, {\"credit_id\": \"55a0e9849251412974001144\", \"department\": \"Art\", \"gender\": 0, \"id\": 11167, \"job\": \"Art Direction\", \"name\": \"Mark Bartholomew\"}, {\"credit_id\": \"52fe4220c3a36847f8005d4d\", \"department\": \"Costume & Make-Up\", \"gender\": 1, \"id\": 10714, \"job\": \"Costume Design\", \"name\": \"Lindy Hemming\"}, {\"credit_id\": \"55a0e9fdc3a3681cde0010b7\", \"department\": \"Art\", \"gender\": 2, \"id\": 10788, \"job\": \"Art Direction\", \"name\": \"Steven Lawrence\"}, {\"credit_id\": \"55a0ea989251412977001115\", \"department\": \"Costume & Make-Up\", \"gender\": 0, \"id\": 15845, \"job\": \"Makeup Artist\", \"name\": \"John Caglione Jr.\"}, {\"credit_id\": \"52fe4220c3a36847f8005d3b\", \"department\": \"Art\", \"gender\": 2, \"id\": 15327, \"job\": \"Production Design\", \"name\": \"Nathan Crowley\"}, {\"credit_id\": \"570a7b3ac3a3687757005056\", \"department\": \"Art\", \"gender\": 0, \"id\": 15328, \"job\": \"Supervising Art Director\", \"name\": \"Kevin Kavanaugh\"}, {\"credit_id\": \"55a0ea0e9251412980001112\", \"department\": \"Art\", \"gender\": 0, \"id\": 17677, \"job\": \"Art Direction\", \"name\": \"Naaman Marshall\"}, {\"credit_id\": \"5674b428c3a368168e0010a9\", \"department\": \"Crew\", \"gender\": 0, \"id\": 44006, \"job\": \"Stunt Coordinator\", \"name\": \"Paul Jennings\"}, {\"credit_id\": \"52fe4220c3a36847f8005d1d\", \"department\": \"Production\", \"gender\": 0, \"id\": 54211, \"job\": \"Executive Producer\", \"name\": \"Thomas Tull\"}, {\"credit_id\": \"52fe4220c3a36847f8005d41\", \"department\": \"Art\", \"gender\": 0, \"id\": 60714, \"job\": \"Set Decoration\", \"name\": \"Peter Lando\"}, {\"credit_id\": \"579d0e12c3a368283000172e\", \"department\": \"Sound\", \"gender\": 0, \"id\": 68016, \"job\": \"Orchestrator\", \"name\": \"Kevin Kaska\"}, {\"credit_id\": \"56d9d28fc3a3682cef01228c\", \"department\": \"Crew\", \"gender\": 2, \"id\": 81687, \"job\": \"Stunts\", \"name\": \"Rick Avery\"}, {\"credit_id\": \"52fe4220c3a36847f8005d29\", \"department\": \"Production\", \"gender\": 2, \"id\": 75804, \"job\": \"Executive Producer\", \"name\": \"Kevin De La Noy\"}, {\"credit_id\": \"5766cabf92514113a600002a\", \"department\": \"Production\", \"gender\": 0, \"id\": 113913, \"job\": \"Associate Producer\", \"name\": \"Jordan Goldberg\"}, {\"credit_id\": \"55a0e9c2925141297d001240\", \"department\": \"Art\", \"gender\": 0, \"id\": 86591, \"job\": \"Art Direction\", \"name\": \"Craig Jackson\"}, {\"credit_id\": \"5674b28792514179e1000f31\", \"department\": \"Sound\", \"gender\": 0, \"id\": 138618, \"job\": \"Sound Re-Recording Mixer\", \"name\": \"Gary Rizzo\"}, {\"credit_id\": \"58f2c9de9251413d84006e96\", \"department\": \"Writing\", \"gender\": 0, \"id\": 198034, \"job\": \"Characters\", \"name\": \"Bill Finger\"}, {\"credit_id\": \"5753102092514109150003c4\", \"department\": \"Sound\", \"gender\": 2, \"id\": 932186, \"job\": \"Orchestrator\", \"name\": \"Bruce Fowler\"}, {\"credit_id\": \"56ba97bac3a3681b750008b2\", \"department\": \"Sound\", \"gender\": 0, \"id\": 936765, \"job\": \"Orchestrator\", \"name\": \"Jeff Atmajian\"}, {\"credit_id\": \"587fd913c3a36863cc00051e\", \"department\": \"Crew\", \"gender\": 1, \"id\": 996220, \"job\": \"Stunts\", \"name\": \"Jessie Graff\"}, {\"credit_id\": \"56a1894bc3a36858e501133f\", \"department\": \"Crew\", \"gender\": 2, \"id\": 1025090, \"job\": \"Stunts\", \"name\": \"Jim Wilkey\"}, {\"credit_id\": \"55a0e999c3a3681ce30011eb\", \"department\": \"Art\", \"gender\": 0, \"id\": 1034754, \"job\": \"Art Direction\", \"name\": \"James Hambidge\"}, {\"credit_id\": \"5674b2a5c3a368168b000e94\", \"department\": \"Editing\", \"gender\": 0, \"id\": 1050930, \"job\": \"Dialogue Editor\", \"name\": \"Hugo Weng\"}, {\"credit_id\": \"560b300d92514171a3003f06\", \"department\": \"Crew\", \"gender\": 0, \"id\": 1233538, \"job\": \"Thanks\", \"name\": \"Richard M. Daley\"}, {\"credit_id\": \"570a7b4992514140f3001f71\", \"department\": \"Art\", \"gender\": 0, \"id\": 1325917, \"job\": \"Supervising Art Director\", \"name\": \"Simon Lamont\"}, {\"credit_id\": \"5674b26992514179d4000f5f\", \"department\": \"Sound\", \"gender\": 0, \"id\": 1327030, \"job\": \"Sound Re-Recording Mixer\", \"name\": \"Lora Hirschberg\"}, {\"credit_id\": \"5674b43e92514179dd000f27\", \"department\": \"Crew\", \"gender\": 0, \"id\": 1327404, \"job\": \"Stunt Coordinator\", \"name\": \"Rick Le Fevour\"}, {\"credit_id\": \"5797967c9251411b59000106\", \"department\": \"Crew\", \"gender\": 2, \"id\": 1332017, \"job\": \"Stunts\", \"name\": \"Brian Christensen\"}, {\"credit_id\": \"5674b22fc3a3681683000ee7\", \"department\": \"Sound\", \"gender\": 2, \"id\": 1341403, \"job\": \"Sound Designer\", \"name\": \"Richard King\"}, {\"credit_id\": \"5674b22592514179e1000f20\", \"department\": \"Sound\", \"gender\": 2, \"id\": 1341403, \"job\": \"Supervising Sound Editor\", \"name\": \"Richard King\"}, {\"credit_id\": \"5674b29692514179e1000f38\", \"department\": \"Editing\", \"gender\": 0, \"id\": 1341405, \"job\": \"Dialogue Editor\", \"name\": \"Michael Magill\"}, {\"credit_id\": \"58f2c9e9c3a368081e007301\", \"department\": \"Writing\", \"gender\": 0, \"id\": 1356195, \"job\": \"Characters\", \"name\": \"Jerry Robinson\"}, {\"credit_id\": \"55a0eb8bc3a3681cf5001143\", \"department\": \"Directing\", \"gender\": 2, \"id\": 1367508, \"job\": \"Script Supervisor\", \"name\": \"Steve Gehrke\"}, {\"credit_id\": \"56ff24a89251416776000810\", \"department\": \"Sound\", \"gender\": 2, \"id\": 1377220, \"job\": \"Sound Re-Recording Mixer\", \"name\": \"Doug Hemphill\"}, {\"credit_id\": \"5674b2b992514179d7000faa\", \"department\": \"Sound\", \"gender\": 0, \"id\": 1377222, \"job\": \"Sound Effects Editor\", \"name\": \"Michael W. Mitchell\"}, {\"credit_id\": \"5674b1b0c3a368168b000e65\", \"department\": \"Camera\", \"gender\": 2, \"id\": 1390535, \"job\": \"Still Photographer\", \"name\": \"Stephen Vaughan\"}, {\"credit_id\": \"5674b3e9c3a368167c000fc1\", \"department\": \"Camera\", \"gender\": 2, \"id\": 1395281, \"job\": \"Camera Operator\", \"name\": \"Bob Gorelick\"}, {\"credit_id\": \"5674b3e392514179db000fb7\", \"department\": \"Camera\", \"gender\": 2, \"id\": 1395281, \"job\": \"Steadicam Operator\", \"name\": \"Bob Gorelick\"}, {\"credit_id\": \"55a0eadb925141296e00119d\", \"department\": \"Art\", \"gender\": 0, \"id\": 1395430, \"job\": \"Art Department Coordinator\", \"name\": \"Jenne Lee\"}, {\"credit_id\": \"5644d9c99251410a4c006237\", \"department\": \"Sound\", \"gender\": 0, \"id\": 1397823, \"job\": \"Foley\", \"name\": \"Alyson Dee Moore\"}, {\"credit_id\": \"5674b20ac3a368167c000f5e\", \"department\": \"Sound\", \"gender\": 0, \"id\": 1400088, \"job\": \"Music Editor\", \"name\": \"Daniel Pinder\"}, {\"credit_id\": \"5674b1fbc3a3681689000e69\", \"department\": \"Sound\", \"gender\": 0, \"id\": 1403490, \"job\": \"Music Editor\", \"name\": \"Alex Gibson\"}, {\"credit_id\": \"56a2c87cc3a3683893000ca6\", \"department\": \"Crew\", \"gender\": 0, \"id\": 1411061, \"job\": \"Stunts\", \"name\": \"Mark Mottram\"}, {\"credit_id\": \"57bc774dc3a368228f006813\", \"department\": \"Crew\", \"gender\": 0, \"id\": 1411118, \"job\": \"Unit Publicist\", \"name\": \"Mira Husseini\"}, {\"credit_id\": \"5674b2f4c3a368168b000ea4\", \"department\": \"Costume & Make-Up\", \"gender\": 0, \"id\": 1417398, \"job\": \"Hair Department Head\", \"name\": \"Janice Alexander\"}, {\"credit_id\": \"55a0ea4fc3a3681ce7001136\", \"department\": \"Costume & Make-Up\", \"gender\": 0, \"id\": 1417400, \"job\": \"Hairstylist\", \"name\": \"Deena Adair\"}, {\"credit_id\": \"5674b2ccc3a368167c000f86\", \"department\": \"Sound\", \"gender\": 0, \"id\": 1417514, \"job\": \"Sound Effects Editor\", \"name\": \"Michael Babcock\"}, {\"credit_id\": \"55a0eab19251412971001182\", \"department\": \"Costume & Make-Up\", \"gender\": 1, \"id\": 1426762, \"job\": \"Makeup Artist\", \"name\": \"Nancy Hancock\"}, {\"credit_id\": \"56d4e894c3a3681e3c01794f\", \"department\": \"Editing\", \"gender\": 0, \"id\": 1440853, \"job\": \"Assistant Editor\", \"name\": \"Donald Likovich\"}, {\"credit_id\": \"566dbae8925141664f00be5a\", \"department\": \"Costume & Make-Up\", \"gender\": 0, \"id\": 1443032, \"job\": \"Hairstylist\", \"name\": \"Kimberley Spiteri\"}, {\"credit_id\": \"55a0ea81c3a3681cf3001211\", \"department\": \"Costume & Make-Up\", \"gender\": 1, \"id\": 1486214, \"job\": \"Makeup Artist\", \"name\": \"Sue Robb-King\"}, {\"credit_id\": \"55a0eb32925141296e0011a4\", \"department\": \"Production\", \"gender\": 0, \"id\": 1486217, \"job\": \"Casting\", \"name\": \"Nicholas Gall\"}, {\"credit_id\": \"576ac579c3a368638e0001e2\", \"department\": \"Costume & Make-Up\", \"gender\": 0, \"id\": 1522745, \"job\": \"Set Costumer\", \"name\": \"Patrick Caulfield\"}, {\"credit_id\": \"563659d0c3a3681b5c01cbda\", \"department\": \"Sound\", \"gender\": 2, \"id\": 1530327, \"job\": \"Orchestrator\", \"name\": \"Brad Dechter\"}, {\"credit_id\": \"5766cda1925141135c000094\", \"department\": \"Crew\", \"gender\": 0, \"id\": 1532224, \"job\": \"Animatronic and Prosthetic Effects\", \"name\": \"Jim Boulden\"}, {\"credit_id\": \"57d6e9fb9251412043000414\", \"department\": \"Camera\", \"gender\": 0, \"id\": 1532610, \"job\": \"First Assistant Camera\", \"name\": \"Bob Hall\"}, {\"credit_id\": \"5654a5bec3a36817810001cf\", \"department\": \"Production\", \"gender\": 0, \"id\": 1540477, \"job\": \"Publicist\", \"name\": \"Dennis Davidson\"}, {\"credit_id\": \"5674b24dc3a3681689000e78\", \"department\": \"Sound\", \"gender\": 0, \"id\": 1550832, \"job\": \"Production Sound Mixer\", \"name\": \"Ed Novick\"}, {\"credit_id\": \"5674b41792514179dd000f1b\", \"department\": \"Crew\", \"gender\": 0, \"id\": 1550851, \"job\": \"Stunt Coordinator\", \"name\": \"Tom Struthers\"}, {\"credit_id\": \"56e215adc3a3686ff500088c\", \"department\": \"Crew\", \"gender\": 0, \"id\": 1551776, \"job\": \"Stunts\", \"name\": \"Tom McComas\"}, {\"credit_id\": \"568f07429251416b52003f23\", \"department\": \"Editing\", \"gender\": 0, \"id\": 1552549, \"job\": \"Color Timer\", \"name\": \"David Orr\"}, {\"credit_id\": \"56b78193c3a36806ec00e6db\", \"department\": \"Directing\", \"gender\": 0, \"id\": 1566280, \"job\": \"Assistant Director\", \"name\": \"Nilo Otero\"}, {\"credit_id\": \"5766cc859251416995000678\", \"department\": \"Crew\", \"gender\": 0, \"id\": 1571601, \"job\": \"Post Production Supervisor\", \"name\": \"David E. Hall\"}, {\"credit_id\": \"5766cbcc92514113a600005a\", \"department\": \"Costume & Make-Up\", \"gender\": 0, \"id\": 1638257, \"job\": \"Prosthetic Supervisor\", \"name\": \"Conor O\\'Sullivan\"}]'"
      ]
     },
     "execution_count": 163,
     "metadata": {},
     "output_type": "execute_result"
    }
   ],
   "source": [
    "#crew column \n",
    "movies[\"crew\"][0]"
   ]
  },
  {
   "cell_type": "markdown",
   "metadata": {},
   "source": [
    "Here we only need the director name for each dict....lets go"
   ]
  },
  {
   "cell_type": "code",
   "execution_count": 164,
   "metadata": {},
   "outputs": [],
   "source": [
    "def featch_dir(obj): \n",
    "    l=[]\n",
    "    for i in ast.literal_eval(obj):\n",
    "        if i[\"job\"]==\"Director\":\n",
    "            l.append(i[\"name\"])\n",
    "            break\n",
    "    return l "
   ]
  },
  {
   "cell_type": "code",
   "execution_count": 165,
   "metadata": {},
   "outputs": [
    {
     "data": {
      "text/plain": [
       "0     [Christopher Nolan]\n",
       "1           [Pete Docter]\n",
       "2     [Christopher Nolan]\n",
       "3     [Christopher Nolan]\n",
       "4         [Peter Jackson]\n",
       "             ...         \n",
       "80         [Lauren Lazin]\n",
       "81                     []\n",
       "82       [Sherman Alexie]\n",
       "83        [Justin Dillon]\n",
       "84            [Jem Cohen]\n",
       "Name: crew, Length: 85, dtype: object"
      ]
     },
     "execution_count": 165,
     "metadata": {},
     "output_type": "execute_result"
    }
   ],
   "source": [
    "movies[\"crew\"]=movies[\"crew\"].apply(featch_dir)\n",
    "movies[\"crew\"]"
   ]
  },
  {
   "cell_type": "code",
   "execution_count": 166,
   "metadata": {},
   "outputs": [
    {
     "data": {
      "text/plain": [
       "'Batman raises the stakes in his war on crime. With the help of Lt. Jim Gordon and District Attorney Harvey Dent, Batman sets out to dismantle the remaining criminal organizations that plague the streets. The partnership proves to be effective, but they soon find themselves prey to a reign of chaos unleashed by a rising criminal mastermind known to the terrified citizens of Gotham as the Joker.'"
      ]
     },
     "execution_count": 166,
     "metadata": {},
     "output_type": "execute_result"
    }
   ],
   "source": [
    "# we have a problem in overview col that is,our overview col are string but we need this col as a list of list .\n",
    "movies[\"overview\"][0]"
   ]
  },
  {
   "cell_type": "code",
   "execution_count": 167,
   "metadata": {},
   "outputs": [
    {
     "data": {
      "text/plain": [
       "0     [Batman, raises, the, stakes, in, his, war, on...\n",
       "1     [Growing, up, can, be, a, bumpy, road,, and, i...\n",
       "2     [Interstellar, chronicles, the, adventures, of...\n",
       "3     [Cobb,, a, skilled, thief, who, commits, corpo...\n",
       "4     [Young, hobbit, Frodo, Baggins,, after, inheri...\n",
       "                            ...                        \n",
       "80    [Home, movies,, photographs,, and, recited, po...\n",
       "81    [An, aging, out, of, work, clown, returns, to,...\n",
       "82    [Seymour, Polatkin, is, a, successful,, gay, I...\n",
       "83    [Call, +, Response, is, a, first, of, its, kin...\n",
       "84    [An, associative, collection, of, visual, impr...\n",
       "Name: overview, Length: 85, dtype: object"
      ]
     },
     "execution_count": 167,
     "metadata": {},
     "output_type": "execute_result"
    }
   ],
   "source": [
    "#let convert it\n",
    "movies[\"overview\"]=movies[\"overview\"].apply(lambda x:x.split())\n",
    "movies[\"overview\"]"
   ]
  },
  {
   "cell_type": "code",
   "execution_count": 168,
   "metadata": {},
   "outputs": [
    {
     "data": {
      "text/html": [
       "<div>\n",
       "<style scoped>\n",
       "    .dataframe tbody tr th:only-of-type {\n",
       "        vertical-align: middle;\n",
       "    }\n",
       "\n",
       "    .dataframe tbody tr th {\n",
       "        vertical-align: top;\n",
       "    }\n",
       "\n",
       "    .dataframe thead th {\n",
       "        text-align: right;\n",
       "    }\n",
       "</style>\n",
       "<table border=\"1\" class=\"dataframe\">\n",
       "  <thead>\n",
       "    <tr style=\"text-align: right;\">\n",
       "      <th></th>\n",
       "      <th>movie_id</th>\n",
       "      <th>title</th>\n",
       "      <th>overview</th>\n",
       "      <th>genres</th>\n",
       "      <th>keywords</th>\n",
       "      <th>cast</th>\n",
       "      <th>crew</th>\n",
       "    </tr>\n",
       "  </thead>\n",
       "  <tbody>\n",
       "    <tr>\n",
       "      <th>0</th>\n",
       "      <td>155</td>\n",
       "      <td>The Dark Knight</td>\n",
       "      <td>[Batman, raises, the, stakes, in, his, war, on...</td>\n",
       "      <td>[Drama, Action, Crime, Thriller]</td>\n",
       "      <td>[dc comics, crime fighter, secret identity, sc...</td>\n",
       "      <td>[Christian Bale, Heath Ledger, Aaron Eckhart]</td>\n",
       "      <td>[Christopher Nolan]</td>\n",
       "    </tr>\n",
       "    <tr>\n",
       "      <th>1</th>\n",
       "      <td>150540</td>\n",
       "      <td>Inside Out</td>\n",
       "      <td>[Growing, up, can, be, a, bumpy, road,, and, i...</td>\n",
       "      <td>[Drama, Comedy, Animation, Family]</td>\n",
       "      <td>[dream, cartoon, imaginary friend, animation, ...</td>\n",
       "      <td>[Amy Poehler, Phyllis Smith, Richard Kind]</td>\n",
       "      <td>[Pete Docter]</td>\n",
       "    </tr>\n",
       "    <tr>\n",
       "      <th>2</th>\n",
       "      <td>157336</td>\n",
       "      <td>Interstellar</td>\n",
       "      <td>[Interstellar, chronicles, the, adventures, of...</td>\n",
       "      <td>[Adventure, Drama, Science Fiction]</td>\n",
       "      <td>[saving the world, artificial intelligence, fa...</td>\n",
       "      <td>[Matthew McConaughey, Jessica Chastain, Anne H...</td>\n",
       "      <td>[Christopher Nolan]</td>\n",
       "    </tr>\n",
       "    <tr>\n",
       "      <th>3</th>\n",
       "      <td>27205</td>\n",
       "      <td>Inception</td>\n",
       "      <td>[Cobb,, a, skilled, thief, who, commits, corpo...</td>\n",
       "      <td>[Action, Thriller, Science Fiction, Mystery, A...</td>\n",
       "      <td>[loss of lover, dream, kidnapping, sleep, subc...</td>\n",
       "      <td>[Leonardo DiCaprio, Joseph Gordon-Levitt, Elle...</td>\n",
       "      <td>[Christopher Nolan]</td>\n",
       "    </tr>\n",
       "    <tr>\n",
       "      <th>4</th>\n",
       "      <td>120</td>\n",
       "      <td>The Lord of the Rings: The Fellowship of the Ring</td>\n",
       "      <td>[Young, hobbit, Frodo, Baggins,, after, inheri...</td>\n",
       "      <td>[Adventure, Fantasy, Action]</td>\n",
       "      <td>[elves, dwarves, orcs, middle-earth (tolkien),...</td>\n",
       "      <td>[Elijah Wood, Ian McKellen, Cate Blanchett]</td>\n",
       "      <td>[Peter Jackson]</td>\n",
       "    </tr>\n",
       "  </tbody>\n",
       "</table>\n",
       "</div>"
      ],
      "text/plain": [
       "  movie_id                                              title  \\\n",
       "0      155                                    The Dark Knight   \n",
       "1   150540                                         Inside Out   \n",
       "2   157336                                       Interstellar   \n",
       "3    27205                                          Inception   \n",
       "4      120  The Lord of the Rings: The Fellowship of the Ring   \n",
       "\n",
       "                                            overview  \\\n",
       "0  [Batman, raises, the, stakes, in, his, war, on...   \n",
       "1  [Growing, up, can, be, a, bumpy, road,, and, i...   \n",
       "2  [Interstellar, chronicles, the, adventures, of...   \n",
       "3  [Cobb,, a, skilled, thief, who, commits, corpo...   \n",
       "4  [Young, hobbit, Frodo, Baggins,, after, inheri...   \n",
       "\n",
       "                                              genres  \\\n",
       "0                   [Drama, Action, Crime, Thriller]   \n",
       "1                 [Drama, Comedy, Animation, Family]   \n",
       "2                [Adventure, Drama, Science Fiction]   \n",
       "3  [Action, Thriller, Science Fiction, Mystery, A...   \n",
       "4                       [Adventure, Fantasy, Action]   \n",
       "\n",
       "                                            keywords  \\\n",
       "0  [dc comics, crime fighter, secret identity, sc...   \n",
       "1  [dream, cartoon, imaginary friend, animation, ...   \n",
       "2  [saving the world, artificial intelligence, fa...   \n",
       "3  [loss of lover, dream, kidnapping, sleep, subc...   \n",
       "4  [elves, dwarves, orcs, middle-earth (tolkien),...   \n",
       "\n",
       "                                                cast                 crew  \n",
       "0      [Christian Bale, Heath Ledger, Aaron Eckhart]  [Christopher Nolan]  \n",
       "1         [Amy Poehler, Phyllis Smith, Richard Kind]        [Pete Docter]  \n",
       "2  [Matthew McConaughey, Jessica Chastain, Anne H...  [Christopher Nolan]  \n",
       "3  [Leonardo DiCaprio, Joseph Gordon-Levitt, Elle...  [Christopher Nolan]  \n",
       "4        [Elijah Wood, Ian McKellen, Cate Blanchett]      [Peter Jackson]  "
      ]
     },
     "execution_count": 168,
     "metadata": {},
     "output_type": "execute_result"
    }
   ],
   "source": [
    "#finally our dataset look like this\n",
    "movies.head()"
   ]
  },
  {
   "cell_type": "code",
   "execution_count": 169,
   "metadata": {},
   "outputs": [
    {
     "data": {
      "text/html": [
       "<div>\n",
       "<style scoped>\n",
       "    .dataframe tbody tr th:only-of-type {\n",
       "        vertical-align: middle;\n",
       "    }\n",
       "\n",
       "    .dataframe tbody tr th {\n",
       "        vertical-align: top;\n",
       "    }\n",
       "\n",
       "    .dataframe thead th {\n",
       "        text-align: right;\n",
       "    }\n",
       "</style>\n",
       "<table border=\"1\" class=\"dataframe\">\n",
       "  <thead>\n",
       "    <tr style=\"text-align: right;\">\n",
       "      <th></th>\n",
       "      <th>movie_id</th>\n",
       "      <th>title</th>\n",
       "      <th>overview</th>\n",
       "      <th>genres</th>\n",
       "      <th>keywords</th>\n",
       "      <th>cast</th>\n",
       "      <th>crew</th>\n",
       "    </tr>\n",
       "  </thead>\n",
       "  <tbody>\n",
       "    <tr>\n",
       "      <th>0</th>\n",
       "      <td>155</td>\n",
       "      <td>The Dark Knight</td>\n",
       "      <td>[Batman, raises, the, stakes, in, his, war, on...</td>\n",
       "      <td>[Drama, Action, Crime, Thriller]</td>\n",
       "      <td>[dccomics, crimefighter, secretidentity, scare...</td>\n",
       "      <td>[ChristianBale, HeathLedger, AaronEckhart]</td>\n",
       "      <td>[ChristopherNolan]</td>\n",
       "    </tr>\n",
       "    <tr>\n",
       "      <th>1</th>\n",
       "      <td>150540</td>\n",
       "      <td>Inside Out</td>\n",
       "      <td>[Growing, up, can, be, a, bumpy, road,, and, i...</td>\n",
       "      <td>[Drama, Comedy, Animation, Family]</td>\n",
       "      <td>[dream, cartoon, imaginaryfriend, animation, f...</td>\n",
       "      <td>[AmyPoehler, PhyllisSmith, RichardKind]</td>\n",
       "      <td>[PeteDocter]</td>\n",
       "    </tr>\n",
       "    <tr>\n",
       "      <th>2</th>\n",
       "      <td>157336</td>\n",
       "      <td>Interstellar</td>\n",
       "      <td>[Interstellar, chronicles, the, adventures, of...</td>\n",
       "      <td>[Adventure, Drama, ScienceFiction]</td>\n",
       "      <td>[savingtheworld, artificialintelligence, fathe...</td>\n",
       "      <td>[MatthewMcConaughey, JessicaChastain, AnneHath...</td>\n",
       "      <td>[ChristopherNolan]</td>\n",
       "    </tr>\n",
       "    <tr>\n",
       "      <th>3</th>\n",
       "      <td>27205</td>\n",
       "      <td>Inception</td>\n",
       "      <td>[Cobb,, a, skilled, thief, who, commits, corpo...</td>\n",
       "      <td>[Action, Thriller, ScienceFiction, Mystery, Ad...</td>\n",
       "      <td>[lossoflover, dream, kidnapping, sleep, subcon...</td>\n",
       "      <td>[LeonardoDiCaprio, JosephGordon-Levitt, EllenP...</td>\n",
       "      <td>[ChristopherNolan]</td>\n",
       "    </tr>\n",
       "    <tr>\n",
       "      <th>4</th>\n",
       "      <td>120</td>\n",
       "      <td>The Lord of the Rings: The Fellowship of the Ring</td>\n",
       "      <td>[Young, hobbit, Frodo, Baggins,, after, inheri...</td>\n",
       "      <td>[Adventure, Fantasy, Action]</td>\n",
       "      <td>[elves, dwarves, orcs, middle-earth(tolkien), ...</td>\n",
       "      <td>[ElijahWood, IanMcKellen, CateBlanchett]</td>\n",
       "      <td>[PeterJackson]</td>\n",
       "    </tr>\n",
       "  </tbody>\n",
       "</table>\n",
       "</div>"
      ],
      "text/plain": [
       "  movie_id                                              title  \\\n",
       "0      155                                    The Dark Knight   \n",
       "1   150540                                         Inside Out   \n",
       "2   157336                                       Interstellar   \n",
       "3    27205                                          Inception   \n",
       "4      120  The Lord of the Rings: The Fellowship of the Ring   \n",
       "\n",
       "                                            overview  \\\n",
       "0  [Batman, raises, the, stakes, in, his, war, on...   \n",
       "1  [Growing, up, can, be, a, bumpy, road,, and, i...   \n",
       "2  [Interstellar, chronicles, the, adventures, of...   \n",
       "3  [Cobb,, a, skilled, thief, who, commits, corpo...   \n",
       "4  [Young, hobbit, Frodo, Baggins,, after, inheri...   \n",
       "\n",
       "                                              genres  \\\n",
       "0                   [Drama, Action, Crime, Thriller]   \n",
       "1                 [Drama, Comedy, Animation, Family]   \n",
       "2                 [Adventure, Drama, ScienceFiction]   \n",
       "3  [Action, Thriller, ScienceFiction, Mystery, Ad...   \n",
       "4                       [Adventure, Fantasy, Action]   \n",
       "\n",
       "                                            keywords  \\\n",
       "0  [dccomics, crimefighter, secretidentity, scare...   \n",
       "1  [dream, cartoon, imaginaryfriend, animation, f...   \n",
       "2  [savingtheworld, artificialintelligence, fathe...   \n",
       "3  [lossoflover, dream, kidnapping, sleep, subcon...   \n",
       "4  [elves, dwarves, orcs, middle-earth(tolkien), ...   \n",
       "\n",
       "                                                cast                crew  \n",
       "0         [ChristianBale, HeathLedger, AaronEckhart]  [ChristopherNolan]  \n",
       "1            [AmyPoehler, PhyllisSmith, RichardKind]        [PeteDocter]  \n",
       "2  [MatthewMcConaughey, JessicaChastain, AnneHath...  [ChristopherNolan]  \n",
       "3  [LeonardoDiCaprio, JosephGordon-Levitt, EllenP...  [ChristopherNolan]  \n",
       "4           [ElijahWood, IanMcKellen, CateBlanchett]      [PeterJackson]  "
      ]
     },
     "execution_count": 169,
     "metadata": {},
     "output_type": "execute_result"
    }
   ],
   "source": [
    "#removing the space from all the columns values.\n",
    "movies[\"genres\"]=movies[\"genres\"].apply(lambda x:[i.replace(\" \",\"\") for i in x])\n",
    "movies[\"keywords\"]=movies[\"keywords\"].apply(lambda x:[i.replace(\" \",\"\") for i in x])\n",
    "movies[\"cast\"]=movies[\"cast\"].apply(lambda x:[i.replace(\" \",\"\") for i in x])\n",
    "movies[\"crew\"]=movies[\"crew\"].apply(lambda x:[i.replace(\" \",\"\") for i in x])\n",
    "movies.head()"
   ]
  },
  {
   "cell_type": "code",
   "execution_count": 170,
   "metadata": {},
   "outputs": [
    {
     "data": {
      "text/plain": [
       "['Batman',\n",
       " 'raises',\n",
       " 'the',\n",
       " 'stakes',\n",
       " 'in',\n",
       " 'his',\n",
       " 'war',\n",
       " 'on',\n",
       " 'crime.',\n",
       " 'With',\n",
       " 'the',\n",
       " 'help',\n",
       " 'of',\n",
       " 'Lt.',\n",
       " 'Jim',\n",
       " 'Gordon',\n",
       " 'and',\n",
       " 'District',\n",
       " 'Attorney',\n",
       " 'Harvey',\n",
       " 'Dent,',\n",
       " 'Batman',\n",
       " 'sets',\n",
       " 'out',\n",
       " 'to',\n",
       " 'dismantle',\n",
       " 'the',\n",
       " 'remaining',\n",
       " 'criminal',\n",
       " 'organizations',\n",
       " 'that',\n",
       " 'plague',\n",
       " 'the',\n",
       " 'streets.',\n",
       " 'The',\n",
       " 'partnership',\n",
       " 'proves',\n",
       " 'to',\n",
       " 'be',\n",
       " 'effective,',\n",
       " 'but',\n",
       " 'they',\n",
       " 'soon',\n",
       " 'find',\n",
       " 'themselves',\n",
       " 'prey',\n",
       " 'to',\n",
       " 'a',\n",
       " 'reign',\n",
       " 'of',\n",
       " 'chaos',\n",
       " 'unleashed',\n",
       " 'by',\n",
       " 'a',\n",
       " 'rising',\n",
       " 'criminal',\n",
       " 'mastermind',\n",
       " 'known',\n",
       " 'to',\n",
       " 'the',\n",
       " 'terrified',\n",
       " 'citizens',\n",
       " 'of',\n",
       " 'Gotham',\n",
       " 'as',\n",
       " 'the',\n",
       " 'Joker.',\n",
       " 'Drama',\n",
       " 'Action',\n",
       " 'Crime',\n",
       " 'Thriller',\n",
       " 'dccomics',\n",
       " 'crimefighter',\n",
       " 'secretidentity',\n",
       " 'scarecrow',\n",
       " 'sadism',\n",
       " 'chaos',\n",
       " 'gothamcity',\n",
       " 'vigilante',\n",
       " 'joker',\n",
       " 'superhero',\n",
       " 'basedoncomicbook',\n",
       " 'tragichero',\n",
       " 'organizedcrime',\n",
       " 'criminalmastermind',\n",
       " 'districtattorney',\n",
       " 'imax',\n",
       " 'supervillain',\n",
       " 'superpowers',\n",
       " 'batman',\n",
       " 'ChristianBale',\n",
       " 'HeathLedger',\n",
       " 'AaronEckhart',\n",
       " 'ChristopherNolan']"
      ]
     },
     "execution_count": 170,
     "metadata": {},
     "output_type": "execute_result"
    }
   ],
   "source": [
    "# we create the right data format for our recommendation system,last one task left\n",
    "#we need to concatination all the last 5 col into one columns \n",
    "movies[\"tags\"]=movies[\"overview\"]+movies[\"genres\"]+movies[\"keywords\"]+movies[\"cast\"]+movies[\"crew\"]\n",
    "movies[\"tags\"][0]"
   ]
  },
  {
   "cell_type": "code",
   "execution_count": 171,
   "metadata": {},
   "outputs": [
    {
     "data": {
      "text/html": [
       "<div>\n",
       "<style scoped>\n",
       "    .dataframe tbody tr th:only-of-type {\n",
       "        vertical-align: middle;\n",
       "    }\n",
       "\n",
       "    .dataframe tbody tr th {\n",
       "        vertical-align: top;\n",
       "    }\n",
       "\n",
       "    .dataframe thead th {\n",
       "        text-align: right;\n",
       "    }\n",
       "</style>\n",
       "<table border=\"1\" class=\"dataframe\">\n",
       "  <thead>\n",
       "    <tr style=\"text-align: right;\">\n",
       "      <th></th>\n",
       "      <th>movie_id</th>\n",
       "      <th>title</th>\n",
       "      <th>tags</th>\n",
       "    </tr>\n",
       "  </thead>\n",
       "  <tbody>\n",
       "    <tr>\n",
       "      <th>0</th>\n",
       "      <td>155</td>\n",
       "      <td>The Dark Knight</td>\n",
       "      <td>[Batman, raises, the, stakes, in, his, war, on...</td>\n",
       "    </tr>\n",
       "    <tr>\n",
       "      <th>1</th>\n",
       "      <td>150540</td>\n",
       "      <td>Inside Out</td>\n",
       "      <td>[Growing, up, can, be, a, bumpy, road,, and, i...</td>\n",
       "    </tr>\n",
       "    <tr>\n",
       "      <th>2</th>\n",
       "      <td>157336</td>\n",
       "      <td>Interstellar</td>\n",
       "      <td>[Interstellar, chronicles, the, adventures, of...</td>\n",
       "    </tr>\n",
       "    <tr>\n",
       "      <th>3</th>\n",
       "      <td>27205</td>\n",
       "      <td>Inception</td>\n",
       "      <td>[Cobb,, a, skilled, thief, who, commits, corpo...</td>\n",
       "    </tr>\n",
       "    <tr>\n",
       "      <th>4</th>\n",
       "      <td>120</td>\n",
       "      <td>The Lord of the Rings: The Fellowship of the Ring</td>\n",
       "      <td>[Young, hobbit, Frodo, Baggins,, after, inheri...</td>\n",
       "    </tr>\n",
       "  </tbody>\n",
       "</table>\n",
       "</div>"
      ],
      "text/plain": [
       "  movie_id                                              title  \\\n",
       "0      155                                    The Dark Knight   \n",
       "1   150540                                         Inside Out   \n",
       "2   157336                                       Interstellar   \n",
       "3    27205                                          Inception   \n",
       "4      120  The Lord of the Rings: The Fellowship of the Ring   \n",
       "\n",
       "                                                tags  \n",
       "0  [Batman, raises, the, stakes, in, his, war, on...  \n",
       "1  [Growing, up, can, be, a, bumpy, road,, and, i...  \n",
       "2  [Interstellar, chronicles, the, adventures, of...  \n",
       "3  [Cobb,, a, skilled, thief, who, commits, corpo...  \n",
       "4  [Young, hobbit, Frodo, Baggins,, after, inheri...  "
      ]
     },
     "execution_count": 171,
     "metadata": {},
     "output_type": "execute_result"
    }
   ],
   "source": [
    "#Now we don't need the last 5 col ,so lets remove them.\n",
    "new_df=movies[[\"movie_id\",\"title\",\"tags\"]]\n",
    "new_df.head()"
   ]
  },
  {
   "cell_type": "code",
   "execution_count": 172,
   "metadata": {},
   "outputs": [
    {
     "name": "stderr",
     "output_type": "stream",
     "text": [
      "C:\\Users\\svijayaraghavan\\AppData\\Local\\Temp\\ipykernel_22084\\934411879.py:2: SettingWithCopyWarning: \n",
      "A value is trying to be set on a copy of a slice from a DataFrame.\n",
      "Try using .loc[row_indexer,col_indexer] = value instead\n",
      "\n",
      "See the caveats in the documentation: https://pandas.pydata.org/pandas-docs/stable/user_guide/indexing.html#returning-a-view-versus-a-copy\n",
      "  new_df[\"tags\"]=new_df[\"tags\"].apply(lambda x:\" \".join(x))\n"
     ]
    },
    {
     "data": {
      "text/html": [
       "<div>\n",
       "<style scoped>\n",
       "    .dataframe tbody tr th:only-of-type {\n",
       "        vertical-align: middle;\n",
       "    }\n",
       "\n",
       "    .dataframe tbody tr th {\n",
       "        vertical-align: top;\n",
       "    }\n",
       "\n",
       "    .dataframe thead th {\n",
       "        text-align: right;\n",
       "    }\n",
       "</style>\n",
       "<table border=\"1\" class=\"dataframe\">\n",
       "  <thead>\n",
       "    <tr style=\"text-align: right;\">\n",
       "      <th></th>\n",
       "      <th>movie_id</th>\n",
       "      <th>title</th>\n",
       "      <th>tags</th>\n",
       "    </tr>\n",
       "  </thead>\n",
       "  <tbody>\n",
       "    <tr>\n",
       "      <th>0</th>\n",
       "      <td>155</td>\n",
       "      <td>The Dark Knight</td>\n",
       "      <td>Batman raises the stakes in his war on crime. ...</td>\n",
       "    </tr>\n",
       "    <tr>\n",
       "      <th>1</th>\n",
       "      <td>150540</td>\n",
       "      <td>Inside Out</td>\n",
       "      <td>Growing up can be a bumpy road, and it's no ex...</td>\n",
       "    </tr>\n",
       "    <tr>\n",
       "      <th>2</th>\n",
       "      <td>157336</td>\n",
       "      <td>Interstellar</td>\n",
       "      <td>Interstellar chronicles the adventures of a gr...</td>\n",
       "    </tr>\n",
       "    <tr>\n",
       "      <th>3</th>\n",
       "      <td>27205</td>\n",
       "      <td>Inception</td>\n",
       "      <td>Cobb, a skilled thief who commits corporate es...</td>\n",
       "    </tr>\n",
       "    <tr>\n",
       "      <th>4</th>\n",
       "      <td>120</td>\n",
       "      <td>The Lord of the Rings: The Fellowship of the Ring</td>\n",
       "      <td>Young hobbit Frodo Baggins, after inheriting a...</td>\n",
       "    </tr>\n",
       "  </tbody>\n",
       "</table>\n",
       "</div>"
      ],
      "text/plain": [
       "  movie_id                                              title  \\\n",
       "0      155                                    The Dark Knight   \n",
       "1   150540                                         Inside Out   \n",
       "2   157336                                       Interstellar   \n",
       "3    27205                                          Inception   \n",
       "4      120  The Lord of the Rings: The Fellowship of the Ring   \n",
       "\n",
       "                                                tags  \n",
       "0  Batman raises the stakes in his war on crime. ...  \n",
       "1  Growing up can be a bumpy road, and it's no ex...  \n",
       "2  Interstellar chronicles the adventures of a gr...  \n",
       "3  Cobb, a skilled thief who commits corporate es...  \n",
       "4  Young hobbit Frodo Baggins, after inheriting a...  "
      ]
     },
     "execution_count": 172,
     "metadata": {},
     "output_type": "execute_result"
    }
   ],
   "source": [
    "#now we need to again convert tag col values into string \n",
    "new_df[\"tags\"]=new_df[\"tags\"].apply(lambda x:\" \".join(x))\n",
    "new_df.head()"
   ]
  },
  {
   "cell_type": "code",
   "execution_count": 173,
   "metadata": {},
   "outputs": [
    {
     "name": "stderr",
     "output_type": "stream",
     "text": [
      "C:\\Users\\svijayaraghavan\\AppData\\Local\\Temp\\ipykernel_22084\\730232997.py:2: SettingWithCopyWarning: \n",
      "A value is trying to be set on a copy of a slice from a DataFrame.\n",
      "Try using .loc[row_indexer,col_indexer] = value instead\n",
      "\n",
      "See the caveats in the documentation: https://pandas.pydata.org/pandas-docs/stable/user_guide/indexing.html#returning-a-view-versus-a-copy\n",
      "  new_df[\"tags\"]=new_df[\"tags\"].apply(lambda x:x.lower())\n"
     ]
    }
   ],
   "source": [
    "#convert into lower case \n",
    "new_df[\"tags\"]=new_df[\"tags\"].apply(lambda x:x.lower())"
   ]
  },
  {
   "cell_type": "markdown",
   "metadata": {},
   "source": [
    "# Creating the Embadding vector"
   ]
  },
  {
   "cell_type": "code",
   "execution_count": 174,
   "metadata": {},
   "outputs": [],
   "source": [
    "#use stemmer to create the root word\n",
    "ps=PorterStemmer()\n",
    "\n",
    "def stem(text):\n",
    "    y=[]\n",
    "    for i in text.split():\n",
    "        y.append(ps.stem(i)) \n",
    "    return \" \".join(y) \n",
    "\n"
   ]
  },
  {
   "cell_type": "code",
   "execution_count": 175,
   "metadata": {},
   "outputs": [
    {
     "name": "stderr",
     "output_type": "stream",
     "text": [
      "C:\\Users\\svijayaraghavan\\AppData\\Local\\Temp\\ipykernel_22084\\1434749582.py:1: SettingWithCopyWarning: \n",
      "A value is trying to be set on a copy of a slice from a DataFrame.\n",
      "Try using .loc[row_indexer,col_indexer] = value instead\n",
      "\n",
      "See the caveats in the documentation: https://pandas.pydata.org/pandas-docs/stable/user_guide/indexing.html#returning-a-view-versus-a-copy\n",
      "  new_df[\"tags\"]=new_df[\"tags\"].apply(stem)\n"
     ]
    },
    {
     "data": {
      "text/plain": [
       "'batman rais the stake in hi war on crime. with the help of lt. jim gordon and district attorney harvey dent, batman set out to dismantl the remain crimin organ that plagu the streets. the partnership prove to be effective, but they soon find themselv prey to a reign of chao unleash by a rise crimin mastermind known to the terrifi citizen of gotham as the joker. drama action crime thriller dccomic crimefight secretident scarecrow sadism chao gothamc vigilant joker superhero basedoncomicbook tragichero organizedcrim criminalmastermind districtattorney imax supervillain superpow batman christianbal heathledg aaroneckhart christophernolan'"
      ]
     },
     "execution_count": 175,
     "metadata": {},
     "output_type": "execute_result"
    }
   ],
   "source": [
    "new_df[\"tags\"]=new_df[\"tags\"].apply(stem)\n",
    "new_df[\"tags\"][0]"
   ]
  },
  {
   "cell_type": "code",
   "execution_count": 176,
   "metadata": {},
   "outputs": [
    {
     "data": {
      "text/html": [
       "<div>\n",
       "<style scoped>\n",
       "    .dataframe tbody tr th:only-of-type {\n",
       "        vertical-align: middle;\n",
       "    }\n",
       "\n",
       "    .dataframe tbody tr th {\n",
       "        vertical-align: top;\n",
       "    }\n",
       "\n",
       "    .dataframe thead th {\n",
       "        text-align: right;\n",
       "    }\n",
       "</style>\n",
       "<table border=\"1\" class=\"dataframe\">\n",
       "  <thead>\n",
       "    <tr style=\"text-align: right;\">\n",
       "      <th></th>\n",
       "      <th>movie_id</th>\n",
       "      <th>title</th>\n",
       "      <th>tags</th>\n",
       "    </tr>\n",
       "  </thead>\n",
       "  <tbody>\n",
       "    <tr>\n",
       "      <th>0</th>\n",
       "      <td>155</td>\n",
       "      <td>The Dark Knight</td>\n",
       "      <td>batman rais the stake in hi war on crime. with...</td>\n",
       "    </tr>\n",
       "    <tr>\n",
       "      <th>1</th>\n",
       "      <td>150540</td>\n",
       "      <td>Inside Out</td>\n",
       "      <td>grow up can be a bumpi road, and it' no except...</td>\n",
       "    </tr>\n",
       "    <tr>\n",
       "      <th>2</th>\n",
       "      <td>157336</td>\n",
       "      <td>Interstellar</td>\n",
       "      <td>interstellar chronicl the adventur of a group ...</td>\n",
       "    </tr>\n",
       "    <tr>\n",
       "      <th>3</th>\n",
       "      <td>27205</td>\n",
       "      <td>Inception</td>\n",
       "      <td>cobb, a skill thief who commit corpor espionag...</td>\n",
       "    </tr>\n",
       "    <tr>\n",
       "      <th>4</th>\n",
       "      <td>120</td>\n",
       "      <td>The Lord of the Rings: The Fellowship of the Ring</td>\n",
       "      <td>young hobbit frodo baggins, after inherit a my...</td>\n",
       "    </tr>\n",
       "  </tbody>\n",
       "</table>\n",
       "</div>"
      ],
      "text/plain": [
       "  movie_id                                              title  \\\n",
       "0      155                                    The Dark Knight   \n",
       "1   150540                                         Inside Out   \n",
       "2   157336                                       Interstellar   \n",
       "3    27205                                          Inception   \n",
       "4      120  The Lord of the Rings: The Fellowship of the Ring   \n",
       "\n",
       "                                                tags  \n",
       "0  batman rais the stake in hi war on crime. with...  \n",
       "1  grow up can be a bumpi road, and it' no except...  \n",
       "2  interstellar chronicl the adventur of a group ...  \n",
       "3  cobb, a skill thief who commit corpor espionag...  \n",
       "4  young hobbit frodo baggins, after inherit a my...  "
      ]
     },
     "execution_count": 176,
     "metadata": {},
     "output_type": "execute_result"
    }
   ],
   "source": [
    "new_df.head()"
   ]
  },
  {
   "cell_type": "markdown",
   "metadata": {},
   "source": [
    "# Vectorization (TEXT)"
   ]
  },
  {
   "cell_type": "code",
   "execution_count": 177,
   "metadata": {},
   "outputs": [],
   "source": [
    "#vectorize the tag col with CV\n",
    "from sklearn.feature_extraction.text import CountVectorizer\n",
    "cv=CountVectorizer(max_features=5000,stop_words=\"english\")\n",
    "vectors = cv.fit_transform(new_df['tags']).toarray()"
   ]
  },
  {
   "cell_type": "code",
   "execution_count": 178,
   "metadata": {},
   "outputs": [
    {
     "data": {
      "text/plain": [
       "array([[0, 0, 0, ..., 0, 0, 0],\n",
       "       [0, 0, 0, ..., 0, 0, 0],\n",
       "       [0, 0, 0, ..., 0, 1, 0],\n",
       "       ...,\n",
       "       [0, 0, 0, ..., 0, 0, 0],\n",
       "       [0, 0, 0, ..., 0, 0, 0],\n",
       "       [0, 0, 0, ..., 0, 0, 0]], dtype=int64)"
      ]
     },
     "execution_count": 178,
     "metadata": {},
     "output_type": "execute_result"
    }
   ],
   "source": [
    "vector_tag=cv.fit_transform(new_df[\"tags\"]).toarray()\n",
    "vector_tag"
   ]
  },
  {
   "cell_type": "code",
   "execution_count": 179,
   "metadata": {},
   "outputs": [],
   "source": [
    "import nltk #for stemming process\n",
    "from nltk.stem.porter import PorterStemmer\n",
    "ps = PorterStemmer()"
   ]
  },
  {
   "cell_type": "code",
   "execution_count": 180,
   "metadata": {},
   "outputs": [
    {
     "data": {
      "text/plain": [
       "array([1.        , 0.01869894, 0.04097688, 0.07827804, 0.04097688,\n",
       "       0.03227486, 0.01521452, 0.01889822, 0.03952847, 0.01704986,\n",
       "       0.07099523, 0.06063391, 0.07254763, 0.04225771, 0.06881024,\n",
       "       0.05547002, 0.10846523, 0.07784989, 0.07071068, 0.05923489,\n",
       "       0.11236664, 0.08539126, 0.04743416, 0.01317616, 0.10188894,\n",
       "       0.04259714, 0.        , 0.03194383, 0.05892557, 0.        ,\n",
       "       0.07276069, 0.0372678 , 0.07678689, 0.02862992, 0.07678689,\n",
       "       0.06388766, 0.01917412, 0.01443376, 0.02041241, 0.02795085,\n",
       "       0.        , 0.03071476, 0.07329943, 0.01613743, 0.0904534 ,\n",
       "       0.15494495, 0.02224971, 0.17497412, 0.0269191 , 0.        ,\n",
       "       0.        , 0.09128709, 0.        , 0.03370999, 0.04128614,\n",
       "       0.0124226 , 0.0163082 , 0.03952847, 0.06542799, 0.02795085,\n",
       "       0.03496893, 0.03042903, 0.07071068, 0.01431496, 0.        ,\n",
       "       0.0261712 , 0.04170288, 0.07407972, 0.04082483, 0.08838835,\n",
       "       0.06498441, 0.01746076, 0.11666667, 0.04662524, 0.02886751,\n",
       "       0.06634311, 0.02344036, 0.04330127, 0.01946247, 0.06085806,\n",
       "       0.        , 0.06900656, 0.06228411, 0.        , 0.        ])"
      ]
     },
     "execution_count": 180,
     "metadata": {},
     "output_type": "execute_result"
    }
   ],
   "source": [
    "#calculate the cosine similarity one movie to another movie\n",
    "similarity=cosine_similarity(vector_tag)\n",
    "similarity[0]"
   ]
  },
  {
   "cell_type": "code",
   "execution_count": 181,
   "metadata": {},
   "outputs": [
    {
     "data": {
      "text/plain": [
       "(85, 85)"
      ]
     },
     "execution_count": 181,
     "metadata": {},
     "output_type": "execute_result"
    }
   ],
   "source": [
    "similarity.shape"
   ]
  },
  {
   "cell_type": "code",
   "execution_count": 182,
   "metadata": {},
   "outputs": [],
   "source": [
    "#defining the stemming function\n",
    "def stem(text):\n",
    "    y=[]\n",
    "    \n",
    "    for i in text.split():\n",
    "        y.append(ps.stem(i))\n",
    "    return \" \".join(y)"
   ]
  },
  {
   "cell_type": "code",
   "execution_count": 183,
   "metadata": {},
   "outputs": [
    {
     "name": "stderr",
     "output_type": "stream",
     "text": [
      "C:\\Users\\svijayaraghavan\\AppData\\Local\\Temp\\ipykernel_22084\\1870752014.py:1: SettingWithCopyWarning: \n",
      "A value is trying to be set on a copy of a slice from a DataFrame.\n",
      "Try using .loc[row_indexer,col_indexer] = value instead\n",
      "\n",
      "See the caveats in the documentation: https://pandas.pydata.org/pandas-docs/stable/user_guide/indexing.html#returning-a-view-versus-a-copy\n",
      "  new_df['tags'] = new_df['tags'].apply(stem) #appplying stemming process on tags column\n"
     ]
    }
   ],
   "source": [
    "new_df['tags'] = new_df['tags'].apply(stem) #appplying stemming process on tags column"
   ]
  },
  {
   "cell_type": "markdown",
   "metadata": {},
   "source": [
    "# Similarity Measure Between Movies"
   ]
  },
  {
   "cell_type": "code",
   "execution_count": 184,
   "metadata": {},
   "outputs": [],
   "source": [
    "from sklearn.metrics.pairwise import cosine_similarity\n",
    "similarity = cosine_similarity(vectors)"
   ]
  },
  {
   "cell_type": "code",
   "execution_count": 185,
   "metadata": {},
   "outputs": [],
   "source": [
    "def recommend(movie):\n",
    "    movie_index = new_df[new_df['title'] == movie].index[0]\n",
    "    distances = similarity[movie_index]\n",
    "    movies_list = sorted(list(enumerate(distances)),reverse=True, key=lambda x:x[1])[1:6]\n",
    "    \n",
    "    for i in movies_list:\n",
    "        print(new_df.iloc[i[0]].title)"
   ]
  },
  {
   "cell_type": "markdown",
   "metadata": {},
   "source": [
    "# Making Recommendation (Based entirely on movies found in the Dataset)"
   ]
  },
  {
   "cell_type": "code",
   "execution_count": 186,
   "metadata": {},
   "outputs": [
    {
     "data": {
      "text/html": [
       "<div>\n",
       "<style scoped>\n",
       "    .dataframe tbody tr th:only-of-type {\n",
       "        vertical-align: middle;\n",
       "    }\n",
       "\n",
       "    .dataframe tbody tr th {\n",
       "        vertical-align: top;\n",
       "    }\n",
       "\n",
       "    .dataframe thead th {\n",
       "        text-align: right;\n",
       "    }\n",
       "</style>\n",
       "<table border=\"1\" class=\"dataframe\">\n",
       "  <thead>\n",
       "    <tr style=\"text-align: right;\">\n",
       "      <th></th>\n",
       "      <th>movie_id</th>\n",
       "      <th>title</th>\n",
       "      <th>cast</th>\n",
       "      <th>crew</th>\n",
       "      <th>Unnamed: 4</th>\n",
       "      <th>Unnamed: 5</th>\n",
       "      <th>Unnamed: 6</th>\n",
       "      <th>Unnamed: 7</th>\n",
       "      <th>Unnamed: 8</th>\n",
       "      <th>Unnamed: 9</th>\n",
       "      <th>...</th>\n",
       "      <th>Unnamed: 1255</th>\n",
       "      <th>Unnamed: 1256</th>\n",
       "      <th>Unnamed: 1257</th>\n",
       "      <th>Unnamed: 1258</th>\n",
       "      <th>Unnamed: 1259</th>\n",
       "      <th>Unnamed: 1260</th>\n",
       "      <th>Unnamed: 1261</th>\n",
       "      <th>Unnamed: 1262</th>\n",
       "      <th>Unnamed: 1263</th>\n",
       "      <th>Unnamed: 1264</th>\n",
       "    </tr>\n",
       "  </thead>\n",
       "  <tbody>\n",
       "    <tr>\n",
       "      <th>0</th>\n",
       "      <td>19995</td>\n",
       "      <td>Avatar</td>\n",
       "      <td>[{\"cast_id\": 242, \"character\": \"Jake Sully\", \"...</td>\n",
       "      <td>[{\"credit_id\": \"52fe48009251416c750aca23\", \"de...</td>\n",
       "      <td>NaN</td>\n",
       "      <td>NaN</td>\n",
       "      <td>NaN</td>\n",
       "      <td>NaN</td>\n",
       "      <td>NaN</td>\n",
       "      <td>NaN</td>\n",
       "      <td>...</td>\n",
       "      <td>NaN</td>\n",
       "      <td>NaN</td>\n",
       "      <td>NaN</td>\n",
       "      <td>NaN</td>\n",
       "      <td>NaN</td>\n",
       "      <td>NaN</td>\n",
       "      <td>NaN</td>\n",
       "      <td>NaN</td>\n",
       "      <td>NaN</td>\n",
       "      <td>NaN</td>\n",
       "    </tr>\n",
       "    <tr>\n",
       "      <th>1</th>\n",
       "      <td>285</td>\n",
       "      <td>Pirates of the Caribbean: At World's End</td>\n",
       "      <td>[{\"cast_id\": 4, \"character\": \"Captain Jack Spa...</td>\n",
       "      <td>[{\"credit_id\": \"52fe4232c3a36847f800b579\", \"de...</td>\n",
       "      <td>NaN</td>\n",
       "      <td>NaN</td>\n",
       "      <td>NaN</td>\n",
       "      <td>NaN</td>\n",
       "      <td>NaN</td>\n",
       "      <td>NaN</td>\n",
       "      <td>...</td>\n",
       "      <td>NaN</td>\n",
       "      <td>NaN</td>\n",
       "      <td>NaN</td>\n",
       "      <td>NaN</td>\n",
       "      <td>NaN</td>\n",
       "      <td>NaN</td>\n",
       "      <td>NaN</td>\n",
       "      <td>NaN</td>\n",
       "      <td>NaN</td>\n",
       "      <td>NaN</td>\n",
       "    </tr>\n",
       "    <tr>\n",
       "      <th>2</th>\n",
       "      <td>206647</td>\n",
       "      <td>Spectre</td>\n",
       "      <td>[{\"cast_id\": 1, \"character\": \"James Bond\", \"cr...</td>\n",
       "      <td>[{\"credit_id\": \"54805967c3a36829b5002c41\", \"de...</td>\n",
       "      <td>NaN</td>\n",
       "      <td>NaN</td>\n",
       "      <td>NaN</td>\n",
       "      <td>NaN</td>\n",
       "      <td>NaN</td>\n",
       "      <td>NaN</td>\n",
       "      <td>...</td>\n",
       "      <td>NaN</td>\n",
       "      <td>NaN</td>\n",
       "      <td>NaN</td>\n",
       "      <td>NaN</td>\n",
       "      <td>NaN</td>\n",
       "      <td>NaN</td>\n",
       "      <td>NaN</td>\n",
       "      <td>NaN</td>\n",
       "      <td>NaN</td>\n",
       "      <td>NaN</td>\n",
       "    </tr>\n",
       "    <tr>\n",
       "      <th>3</th>\n",
       "      <td>49026</td>\n",
       "      <td>The Dark Knight Rises</td>\n",
       "      <td>[{\"cast_id\": 2, \"character\": \"Bruce Wayne / Ba...</td>\n",
       "      <td>[{\"credit_id\": \"52fe4781c3a36847f81398c3\", \"de...</td>\n",
       "      <td>NaN</td>\n",
       "      <td>NaN</td>\n",
       "      <td>NaN</td>\n",
       "      <td>NaN</td>\n",
       "      <td>NaN</td>\n",
       "      <td>NaN</td>\n",
       "      <td>...</td>\n",
       "      <td>NaN</td>\n",
       "      <td>NaN</td>\n",
       "      <td>NaN</td>\n",
       "      <td>NaN</td>\n",
       "      <td>NaN</td>\n",
       "      <td>NaN</td>\n",
       "      <td>NaN</td>\n",
       "      <td>NaN</td>\n",
       "      <td>NaN</td>\n",
       "      <td>NaN</td>\n",
       "    </tr>\n",
       "    <tr>\n",
       "      <th>4</th>\n",
       "      <td>49529</td>\n",
       "      <td>John Carter</td>\n",
       "      <td>[{\"cast_id\": 5, \"character\": \"John Carter\", \"c...</td>\n",
       "      <td>[{\"credit_id\": \"52fe479ac3a36847f813eaa3\", \"de...</td>\n",
       "      <td>NaN</td>\n",
       "      <td>NaN</td>\n",
       "      <td>NaN</td>\n",
       "      <td>NaN</td>\n",
       "      <td>NaN</td>\n",
       "      <td>NaN</td>\n",
       "      <td>...</td>\n",
       "      <td>NaN</td>\n",
       "      <td>NaN</td>\n",
       "      <td>NaN</td>\n",
       "      <td>NaN</td>\n",
       "      <td>NaN</td>\n",
       "      <td>NaN</td>\n",
       "      <td>NaN</td>\n",
       "      <td>NaN</td>\n",
       "      <td>NaN</td>\n",
       "      <td>NaN</td>\n",
       "    </tr>\n",
       "  </tbody>\n",
       "</table>\n",
       "<p>5 rows × 1265 columns</p>\n",
       "</div>"
      ],
      "text/plain": [
       "  movie_id                                     title  \\\n",
       "0    19995                                    Avatar   \n",
       "1      285  Pirates of the Caribbean: At World's End   \n",
       "2   206647                                   Spectre   \n",
       "3    49026                     The Dark Knight Rises   \n",
       "4    49529                               John Carter   \n",
       "\n",
       "                                                cast  \\\n",
       "0  [{\"cast_id\": 242, \"character\": \"Jake Sully\", \"...   \n",
       "1  [{\"cast_id\": 4, \"character\": \"Captain Jack Spa...   \n",
       "2  [{\"cast_id\": 1, \"character\": \"James Bond\", \"cr...   \n",
       "3  [{\"cast_id\": 2, \"character\": \"Bruce Wayne / Ba...   \n",
       "4  [{\"cast_id\": 5, \"character\": \"John Carter\", \"c...   \n",
       "\n",
       "                                                crew Unnamed: 4 Unnamed: 5  \\\n",
       "0  [{\"credit_id\": \"52fe48009251416c750aca23\", \"de...        NaN        NaN   \n",
       "1  [{\"credit_id\": \"52fe4232c3a36847f800b579\", \"de...        NaN        NaN   \n",
       "2  [{\"credit_id\": \"54805967c3a36829b5002c41\", \"de...        NaN        NaN   \n",
       "3  [{\"credit_id\": \"52fe4781c3a36847f81398c3\", \"de...        NaN        NaN   \n",
       "4  [{\"credit_id\": \"52fe479ac3a36847f813eaa3\", \"de...        NaN        NaN   \n",
       "\n",
       "  Unnamed: 6 Unnamed: 7 Unnamed: 8 Unnamed: 9  ... Unnamed: 1255  \\\n",
       "0        NaN        NaN        NaN        NaN  ...           NaN   \n",
       "1        NaN        NaN        NaN        NaN  ...           NaN   \n",
       "2        NaN        NaN        NaN        NaN  ...           NaN   \n",
       "3        NaN        NaN        NaN        NaN  ...           NaN   \n",
       "4        NaN        NaN        NaN        NaN  ...           NaN   \n",
       "\n",
       "  Unnamed: 1256 Unnamed: 1257 Unnamed: 1258 Unnamed: 1259 Unnamed: 1260  \\\n",
       "0           NaN           NaN           NaN           NaN           NaN   \n",
       "1           NaN           NaN           NaN           NaN           NaN   \n",
       "2           NaN           NaN           NaN           NaN           NaN   \n",
       "3           NaN           NaN           NaN           NaN           NaN   \n",
       "4           NaN           NaN           NaN           NaN           NaN   \n",
       "\n",
       "  Unnamed: 1261 Unnamed: 1262 Unnamed: 1263 Unnamed: 1264  \n",
       "0           NaN           NaN           NaN           NaN  \n",
       "1           NaN           NaN           NaN           NaN  \n",
       "2           NaN           NaN           NaN           NaN  \n",
       "3           NaN           NaN           NaN           NaN  \n",
       "4           NaN           NaN           NaN           NaN  \n",
       "\n",
       "[5 rows x 1265 columns]"
      ]
     },
     "execution_count": 186,
     "metadata": {},
     "output_type": "execute_result"
    }
   ],
   "source": [
    "credits.head(5)"
   ]
  },
  {
   "cell_type": "markdown",
   "metadata": {},
   "source": [
    "# Recommendations Based on Movie Titles"
   ]
  },
  {
   "cell_type": "code",
   "execution_count": 187,
   "metadata": {},
   "outputs": [
    {
     "data": {
      "text/plain": [
       "(4813, 4501)"
      ]
     },
     "execution_count": 187,
     "metadata": {},
     "output_type": "execute_result"
    }
   ],
   "source": [
    "#Import TfIdfVectorizer from scikit-learn\n",
    "from sklearn.feature_extraction.text import TfidfVectorizer\n",
    "\n",
    "#Define a TF-IDF Vectorizer Object. Remove all english stop words such as 'the', 'a'\n",
    "tfidf = TfidfVectorizer(stop_words='english')\n",
    "\n",
    "#Replace NaN with an empty string\n",
    "credits['title'] = credits['title'].fillna('')\n",
    "\n",
    "#Construct the required TF-IDF matrix by fitting and transforming the data\n",
    "tfidf_matrix = tfidf.fit_transform(credits['title'])\n",
    "\n",
    "#Output the shape of tfidf_matrix\n",
    "tfidf_matrix.shape"
   ]
  },
  {
   "cell_type": "code",
   "execution_count": 188,
   "metadata": {},
   "outputs": [],
   "source": [
    "# Import linear_kernel\n",
    "from sklearn.metrics.pairwise import linear_kernel\n",
    "\n",
    "# Compute the cosine similarity matrix\n",
    "cosine_sim = linear_kernel(tfidf_matrix, tfidf_matrix)"
   ]
  },
  {
   "cell_type": "code",
   "execution_count": 189,
   "metadata": {},
   "outputs": [],
   "source": [
    "#Construct a reverse map of indices and movie titles\n",
    "indices = pd.Series(credits.index, index=credits['title']).drop_duplicates()"
   ]
  },
  {
   "cell_type": "code",
   "execution_count": 190,
   "metadata": {},
   "outputs": [],
   "source": [
    "# Function that takes in movie title as input and outputs most similar movies\n",
    "def get_recommendations(title, cosine_sim=cosine_sim):\n",
    "    # Get the index of the movie that matches the title\n",
    "    idx = indices[title]\n",
    "\n",
    "    # Get the pairwsie similarity scores of all movies with that movie\n",
    "    sim_scores = list(enumerate(cosine_sim[idx]))\n",
    "\n",
    "    # Sort the movies based on the similarity scores\n",
    "    sim_scores = sorted(sim_scores, key=lambda x: x[1], reverse=True)\n",
    "\n",
    "    # Get the scores of the 10 most similar movies\n",
    "    sim_scores = sim_scores[1:11]\n",
    "\n",
    "    # Get the movie indices\n",
    "    movie_indices = [i[0] for i in sim_scores]\n",
    "\n",
    "    # Return the top 10 most similar movies\n",
    "    return credits['title'].iloc[movie_indices]"
   ]
  },
  {
   "cell_type": "code",
   "execution_count": 191,
   "metadata": {},
   "outputs": [
    {
     "data": {
      "text/plain": [
       "1458                                   The Order\n",
       "115          Harry Potter and the Goblet of Fire\n",
       "198     Harry Potter and the Philosopher's Stone\n",
       "280      Harry Potter and the Chamber of Secrets\n",
       "192     Harry Potter and the Prisoner of Azkaban\n",
       "8         Harry Potter and the Half-Blood Prince\n",
       "550                        Flight of the Phoenix\n",
       "221                              \"\"order\"\": 196}\n",
       "645                              \"\"order\"\": 206}\n",
       "1677                                 Miss Potter\n",
       "Name: title, dtype: object"
      ]
     },
     "execution_count": 191,
     "metadata": {},
     "output_type": "execute_result"
    }
   ],
   "source": [
    "get_recommendations('Harry Potter and the Order of the Phoenix')"
   ]
  },
  {
   "cell_type": "code",
   "execution_count": 192,
   "metadata": {},
   "outputs": [
    {
     "data": {
      "text/plain": [
       "1031                            Earth\n",
       "1578                    Down to Earth\n",
       "2613                    Here On Earth\n",
       "4710                    Another Earth\n",
       "4698               The Man from Earth\n",
       "3749       The Greatest Show on Earth\n",
       "2764                    Earth to Echo\n",
       "486                 Battlefield Earth\n",
       "1207         Escape from Planet Earth\n",
       "460     The Day the Earth Stood Still\n",
       "Name: title, dtype: object"
      ]
     },
     "execution_count": 192,
     "metadata": {},
     "output_type": "execute_result"
    }
   ],
   "source": [
    "get_recommendations('After Earth')"
   ]
  },
  {
   "cell_type": "code",
   "execution_count": 193,
   "metadata": {},
   "outputs": [
    {
     "data": {
      "text/plain": [
       "246                     Fantastic Four\n",
       "2349                       Soul Surfer\n",
       "3511                      Surfer, Dude\n",
       "4013                   Silver Medalist\n",
       "1266                 Fantastic Mr. Fox\n",
       "155              Rise of the Guardians\n",
       "2080           Silver Linings Playbook\n",
       "4049             The Rise of the Krays\n",
       "340     Rise of the Planet of the Apes\n",
       "77         G.I. Joe: The Rise of Cobra\n",
       "Name: title, dtype: object"
      ]
     },
     "execution_count": 193,
     "metadata": {},
     "output_type": "execute_result"
    }
   ],
   "source": [
    "get_recommendations('Fantastic 4: Rise of the Silver Surfer')"
   ]
  },
  {
   "cell_type": "markdown",
   "metadata": {},
   "source": [
    "# Recommendations based on Movie related Keywords & Movie Genres"
   ]
  },
  {
   "cell_type": "code",
   "execution_count": 194,
   "metadata": {},
   "outputs": [
    {
     "data": {
      "text/html": [
       "<div>\n",
       "<style scoped>\n",
       "    .dataframe tbody tr th:only-of-type {\n",
       "        vertical-align: middle;\n",
       "    }\n",
       "\n",
       "    .dataframe tbody tr th {\n",
       "        vertical-align: top;\n",
       "    }\n",
       "\n",
       "    .dataframe thead th {\n",
       "        text-align: right;\n",
       "    }\n",
       "</style>\n",
       "<table border=\"1\" class=\"dataframe\">\n",
       "  <thead>\n",
       "    <tr style=\"text-align: right;\">\n",
       "      <th></th>\n",
       "      <th>title</th>\n",
       "      <th>cast</th>\n",
       "      <th>keywords</th>\n",
       "      <th>genres</th>\n",
       "    </tr>\n",
       "  </thead>\n",
       "  <tbody>\n",
       "    <tr>\n",
       "      <th>0</th>\n",
       "      <td>The Dark Knight</td>\n",
       "      <td>[ChristianBale, HeathLedger, AaronEckhart]</td>\n",
       "      <td>[dccomics, crimefighter, secretidentity, scare...</td>\n",
       "      <td>[Drama, Action, Crime, Thriller]</td>\n",
       "    </tr>\n",
       "    <tr>\n",
       "      <th>1</th>\n",
       "      <td>Inside Out</td>\n",
       "      <td>[AmyPoehler, PhyllisSmith, RichardKind]</td>\n",
       "      <td>[dream, cartoon, imaginaryfriend, animation, f...</td>\n",
       "      <td>[Drama, Comedy, Animation, Family]</td>\n",
       "    </tr>\n",
       "    <tr>\n",
       "      <th>2</th>\n",
       "      <td>Interstellar</td>\n",
       "      <td>[MatthewMcConaughey, JessicaChastain, AnneHath...</td>\n",
       "      <td>[savingtheworld, artificialintelligence, fathe...</td>\n",
       "      <td>[Adventure, Drama, ScienceFiction]</td>\n",
       "    </tr>\n",
       "  </tbody>\n",
       "</table>\n",
       "</div>"
      ],
      "text/plain": [
       "             title                                               cast  \\\n",
       "0  The Dark Knight         [ChristianBale, HeathLedger, AaronEckhart]   \n",
       "1       Inside Out            [AmyPoehler, PhyllisSmith, RichardKind]   \n",
       "2     Interstellar  [MatthewMcConaughey, JessicaChastain, AnneHath...   \n",
       "\n",
       "                                            keywords  \\\n",
       "0  [dccomics, crimefighter, secretidentity, scare...   \n",
       "1  [dream, cartoon, imaginaryfriend, animation, f...   \n",
       "2  [savingtheworld, artificialintelligence, fathe...   \n",
       "\n",
       "                               genres  \n",
       "0    [Drama, Action, Crime, Thriller]  \n",
       "1  [Drama, Comedy, Animation, Family]  \n",
       "2  [Adventure, Drama, ScienceFiction]  "
      ]
     },
     "execution_count": 194,
     "metadata": {},
     "output_type": "execute_result"
    }
   ],
   "source": [
    "# Print the new features of the first 3 films\n",
    "movies[['title', 'cast', 'keywords', 'genres']].head(3)"
   ]
  },
  {
   "cell_type": "code",
   "execution_count": 195,
   "metadata": {},
   "outputs": [],
   "source": [
    "# Reset index of our main DataFrame and construct reverse mapping as before\n",
    "movies = movies.reset_index()\n",
    "indices = pd.Series(movies.index, index=movies['title'])"
   ]
  },
  {
   "cell_type": "code",
   "execution_count": 196,
   "metadata": {},
   "outputs": [
    {
     "name": "stdout",
     "output_type": "stream",
     "text": [
      "title\n",
      "The Dark Knight                                       0\n",
      "Inside Out                                            1\n",
      "Interstellar                                          2\n",
      "Inception                                             3\n",
      "The Lord of the Rings: The Fellowship of the Ring     4\n",
      "                                                     ..\n",
      "Tupac: Resurrection                                  80\n",
      "Little Big Top                                       81\n",
      "The Business of Fancydancing                         82\n",
      "Call + Response                                      83\n",
      "Counting                                             84\n",
      "Length: 85, dtype: int64\n"
     ]
    }
   ],
   "source": [
    "print(indices.head(100))\n"
   ]
  },
  {
   "cell_type": "code",
   "execution_count": 197,
   "metadata": {},
   "outputs": [],
   "source": [
    "movies['title'] = movies['title'].str.strip().str.lower()\n",
    "indices = pd.Series(movies.index, index=movies['title']).drop_duplicates()\n"
   ]
  },
  {
   "cell_type": "code",
   "execution_count": 198,
   "metadata": {},
   "outputs": [
    {
     "name": "stdout",
     "output_type": "stream",
     "text": [
      "0          the dark knight\n",
      "4                  dunkirk\n",
      "1    the dark knight rises\n",
      "2                inception\n",
      "Name: title, dtype: object\n"
     ]
    }
   ],
   "source": [
    "\n",
    "from sklearn.feature_extraction.text import TfidfVectorizer\n",
    "from sklearn.metrics.pairwise import cosine_similarity\n",
    "import pandas as pd\n",
    "\n",
    "\n",
    "# Sample data\n",
    "movies = pd.DataFrame({\n",
    "    'title': ['The Dark Knight', 'The Dark Knight Rises', 'Inception', 'Interstellar', 'Dunkirk'],\n",
    "    'description': [\n",
    "        'A superhero film directed by Christopher Nolan.',\n",
    "        'A sequel to The Dark Knight, directed by Christopher Nolan.',\n",
    "        'A mind-bending thriller directed by Christopher Nolan.',\n",
    "        'A sci-fi epic directed by Christopher Nolan.',\n",
    "        'A war film directed by Christopher Nolan.'\n",
    "    ]\n",
    "})\n",
    "\n",
    "# Vectorize the descriptions\n",
    "tfidf = TfidfVectorizer(stop_words='english')\n",
    "tfidf_matrix = tfidf.fit_transform(movies['description'])\n",
    "\n",
    "# Compute the cosine similarity matrix\n",
    "cosine_sim2 = cosine_similarity(tfidf_matrix, tfidf_matrix)\n",
    "\n",
    "# Create a Series to map movie titles to indices\n",
    "movies['title'] = movies['title'].str.strip().str.lower()\n",
    "indices = pd.Series(movies.index, index=movies['title']).drop_duplicates()\n",
    "\n",
    "# Define the get_recommendations function\n",
    "def get_recommendations(title, cosine_sim):\n",
    "    title = title.strip().lower()\n",
    "    if title not in indices:\n",
    "        print(f\"Title '{title}' not found in the dataset.\")\n",
    "        return []\n",
    "    \n",
    "    # Get the index of the movie that matches the title\n",
    "    idx = indices[title]\n",
    "\n",
    "    # Get the pairwise similarity scores of all movies with that movie\n",
    "    sim_scores = list(enumerate(cosine_sim[idx]))\n",
    "\n",
    "    # Sort the movies based on the similarity scores\n",
    "    sim_scores = sorted(sim_scores, key=lambda x: x[1], reverse=True)\n",
    "\n",
    "    # Get the scores of the 10 most similar movies\n",
    "    sim_scores = sim_scores[1:11]\n",
    "\n",
    "    # Get the movie indices\n",
    "    movie_indices = [i[0] for i in sim_scores]\n",
    "\n",
    "    # Return the top 10 most similar movies\n",
    "    return movies['title'].iloc[movie_indices]\n",
    "\n",
    "# Get recommendations\n",
    "recommendations = get_recommendations('Interstellar', cosine_sim2)\n",
    "print(recommendations)\n"
   ]
  },
  {
   "cell_type": "code",
   "execution_count": null,
   "metadata": {},
   "outputs": [],
   "source": []
  },
  {
   "cell_type": "code",
   "execution_count": null,
   "metadata": {},
   "outputs": [],
   "source": []
  }
 ],
 "metadata": {
  "kaggle": {
   "accelerator": "none",
   "dataSources": [
    {
     "datasetId": 138,
     "sourceId": 4508,
     "sourceType": "datasetVersion"
    }
   ],
   "dockerImageVersionId": 30178,
   "isGpuEnabled": false,
   "isInternetEnabled": false,
   "language": "python",
   "sourceType": "notebook"
  },
  "kernelspec": {
   "display_name": "Python 3 (ipykernel)",
   "language": "python",
   "name": "python3"
  },
  "language_info": {
   "codemirror_mode": {
    "name": "ipython",
    "version": 3
   },
   "file_extension": ".py",
   "mimetype": "text/x-python",
   "name": "python",
   "nbconvert_exporter": "python",
   "pygments_lexer": "ipython3",
   "version": "3.12.4"
  }
 },
 "nbformat": 4,
 "nbformat_minor": 4
}
